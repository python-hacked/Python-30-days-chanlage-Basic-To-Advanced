{
 "cells": [
  {
   "cell_type": "markdown",
   "id": "141d3537",
   "metadata": {},
   "source": [
    "**Day 1: Introduction to Python, Installing Python, Running Your First Program**\n",
    "\n",
    "**Introduction to Python:**\n",
    "- Python is a high-level programming language known for its simplicity and readability.\n",
    "- It is widely used for web development, data analysis, artificial intelligence, and more.\n",
    "- Python uses indentation to define code blocks, promoting clean and organized code.\n",
    "\n",
    "**Installing Python:**\n",
    "1. Visit the official Python website: https://www.python.org/\n",
    "2. Download the latest version of Python for your operating system (Windows, macOS, Linux).\n",
    "3. Run the installer and follow the installation instructions.\n",
    "4. During installation, make sure to check the option to add Python to your system PATH, which allows you to run Python from the command line.\n",
    "\n",
    "**Running Your First Program:**\n",
    "1. Open a text editor (e.g., Notepad on Windows, TextEdit on macOS) or use an integrated development environment (IDE) like Visual Studio Code, PyCharm, or IDLE.\n",
    "2. Type the following code:\n",
    "\n",
    "```python\n",
    "print(\"Hello, world!\")\n",
    "```\n",
    "\n",
    "3. Save the file with a `.py` extension (e.g., `first_program.py`).\n",
    "4. Open your command prompt (Windows) or terminal (macOS, Linux).\n",
    "5. Navigate to the directory where you saved the `.py` file using the `cd` command.\n",
    "6. Run the program by entering: `python first_program.py`\n",
    "7. You should see the output: `Hello, world!`\n",
    "\n",
    "**Notes:**\n",
    "- Python uses the `print()` function to display output to the console.\n",
    "- The text within double or single quotes is a string literal.\n",
    "- Make sure to save your Python files with the `.py` extension.\n",
    "- Indentation is crucial in Python. Use consistent indentation to define code blocks.\n",
    "- The `python` command followed by the filename runs the Python script.\n",
    "\n",
    "**Tips:**\n",
    "- Experiment with changing the text inside the `print()` function to see different outputs.\n",
    "- Familiarize yourself with the basic syntax and structure of Python code.\n",
    "- Take time to understand the importance of indentation in Python.\n",
    "- In subsequent days, you'll explore more about variables, data types, and basic operations."
   ]
  },
  {
   "cell_type": "markdown",
   "id": "1cfe4e61",
   "metadata": {},
   "source": [
    " Variables, Data Types (Integers, Floats, Strings), Basic Operations"
   ]
  },
  {
   "cell_type": "markdown",
   "id": "237041a3",
   "metadata": {},
   "source": [
    "Variables:\n",
    "\n",
    "Variables are used to store data values in a program.\n",
    "You can think of them as named containers for holding information.\n",
    "In Python, variable names are case-sensitive and can consist of letters, numbers, and underscores. They cannot start with a number."
   ]
  },
  {
   "cell_type": "code",
   "execution_count": 1,
   "id": "cdcf354d",
   "metadata": {},
   "outputs": [],
   "source": [
    "name = \"Alice\"\n",
    "age = 25"
   ]
  },
  {
   "cell_type": "markdown",
   "id": "2bb4bd71",
   "metadata": {},
   "source": [
    "Data Types:\n",
    "\n",
    "Python has various built-in data types to represent different kinds of values.\n",
    "Common data types include integers, floats, and strings.\n",
    "Integers:\n",
    "\n",
    "Integers are whole numbers without decimal points.\n",
    "Examples: -2, 0, 42\n",
    "Floats:\n",
    "\n",
    "Floats (floating-point numbers) represent numbers with decimal points.\n",
    "Examples: 3.14, -0.5, 2.0\n",
    "Strings:\n",
    "\n",
    "Strings are sequences of characters enclosed in either single or double quotes.\n",
    "Examples: \"Hello, world!\", 'Python'"
   ]
  },
  {
   "cell_type": "markdown",
   "id": "2c1f9f57",
   "metadata": {},
   "source": [
    "# Basic Operations:"
   ]
  },
  {
   "cell_type": "markdown",
   "id": "d32a9c20",
   "metadata": {},
   "source": [
    "Python allows you to perform various operations on variables and data types."
   ]
  },
  {
   "cell_type": "markdown",
   "id": "27c62a90",
   "metadata": {},
   "source": [
    "Arithmetic Operations:"
   ]
  },
  {
   "cell_type": "markdown",
   "id": "062be184",
   "metadata": {},
   "source": [
    "Addition (+), subtraction (-), multiplication (*), division (/), exponentiation (**), and modulus (%)."
   ]
  },
  {
   "cell_type": "code",
   "execution_count": 21,
   "id": "2545f6a4",
   "metadata": {},
   "outputs": [
    {
     "name": "stdout",
     "output_type": "stream",
     "text": [
      "sum 15\n"
     ]
    }
   ],
   "source": [
    "num1 = 5\n",
    "num2 = 10\n",
    "num3 = num1 + num2\n",
    "print(\"sum\",num3)"
   ]
  },
  {
   "cell_type": "code",
   "execution_count": 3,
   "id": "765f9274",
   "metadata": {},
   "outputs": [
    {
     "name": "stdout",
     "output_type": "stream",
     "text": [
      "Difference: 3\n"
     ]
    }
   ],
   "source": [
    "num1 = 10\n",
    "num2 = 7\n",
    "diff_result = num1 - num2\n",
    "print(\"Difference:\", diff_result)\n"
   ]
  },
  {
   "cell_type": "code",
   "execution_count": 4,
   "id": "4b36d023",
   "metadata": {},
   "outputs": [
    {
     "name": "stdout",
     "output_type": "stream",
     "text": [
      "Product: 24\n"
     ]
    }
   ],
   "source": [
    "num1 = 4\n",
    "num2 = 6\n",
    "prod_result = num1 * num2\n",
    "print(\"Product:\", prod_result)\n"
   ]
  },
  {
   "cell_type": "code",
   "execution_count": 5,
   "id": "b49fe765",
   "metadata": {},
   "outputs": [
    {
     "name": "stdout",
     "output_type": "stream",
     "text": [
      "Quotient: 5.0\n"
     ]
    }
   ],
   "source": [
    "num1 = 20\n",
    "num2 = 4\n",
    "div_result = num1 / num2\n",
    "print(\"Quotient:\", div_result)"
   ]
  },
  {
   "cell_type": "code",
   "execution_count": 6,
   "id": "75308758",
   "metadata": {},
   "outputs": [
    {
     "name": "stdout",
     "output_type": "stream",
     "text": [
      "Modulus: 2\n"
     ]
    }
   ],
   "source": [
    "num1 = 17\n",
    "num2 = 5\n",
    "mod_result = num1 % num2\n",
    "print(\"Modulus:\", mod_result)\n"
   ]
  },
  {
   "cell_type": "code",
   "execution_count": 7,
   "id": "cc090a61",
   "metadata": {},
   "outputs": [
    {
     "name": "stdout",
     "output_type": "stream",
     "text": [
      "Exponent: 8\n"
     ]
    }
   ],
   "source": [
    "base = 2\n",
    "exponent = 3\n",
    "exp_result = base ** exponent\n",
    "print(\"Exponent:\", exp_result)"
   ]
  },
  {
   "cell_type": "code",
   "execution_count": 8,
   "id": "651c98f4",
   "metadata": {},
   "outputs": [
    {
     "name": "stdout",
     "output_type": "stream",
     "text": [
      "Floor Division: 3\n"
     ]
    }
   ],
   "source": [
    "num1 = 15\n",
    "num2 = 4\n",
    "floor_div_result = num1 // num2\n",
    "print(\"Floor Division:\", floor_div_result)\n"
   ]
  },
  {
   "cell_type": "code",
   "execution_count": 23,
   "id": "090b6362",
   "metadata": {},
   "outputs": [
    {
     "name": "stdout",
     "output_type": "stream",
     "text": [
      "Compound Interest: 157.62500000000023\n"
     ]
    }
   ],
   "source": [
    "principal = 1000\n",
    "rate = 0.05\n",
    "time = 3\n",
    "comp_interest = principal*(1+rate)**time - principal\n",
    "print(\"Compound Interest:\", comp_interest)"
   ]
  },
  {
   "cell_type": "code",
   "execution_count": 10,
   "id": "0b45866b",
   "metadata": {},
   "outputs": [
    {
     "name": "stdout",
     "output_type": "stream",
     "text": [
      "Average: 36.0\n"
     ]
    }
   ],
   "source": [
    "nums = [12, 24, 36, 48, 60]\n",
    "avg = sum(nums) / len(nums)\n",
    "print(\"Average:\", avg)"
   ]
  },
  {
   "cell_type": "markdown",
   "id": "5f9e3c69",
   "metadata": {},
   "source": [
    "# Assignment operators"
   ]
  },
  {
   "cell_type": "code",
   "execution_count": 11,
   "id": "195fdbc5",
   "metadata": {},
   "outputs": [
    {
     "name": "stdout",
     "output_type": "stream",
     "text": [
      "Incremented: 6\n"
     ]
    }
   ],
   "source": [
    "num = 5\n",
    "num += 1\n",
    "print(\"Incremented:\", num)"
   ]
  },
  {
   "cell_type": "code",
   "execution_count": 12,
   "id": "68db846f",
   "metadata": {},
   "outputs": [
    {
     "name": "stdout",
     "output_type": "stream",
     "text": [
      "Decremented: 6\n"
     ]
    }
   ],
   "source": [
    "num = 8\n",
    "num -= 2\n",
    "print(\"Decremented:\", num)"
   ]
  },
  {
   "cell_type": "code",
   "execution_count": 13,
   "id": "658532d6",
   "metadata": {},
   "outputs": [
    {
     "name": "stdout",
     "output_type": "stream",
     "text": [
      "Multiplied: 12\n"
     ]
    }
   ],
   "source": [
    "num = 3\n",
    "num *= 4\n",
    "print(\"Multiplied:\", num)"
   ]
  },
  {
   "cell_type": "code",
   "execution_count": 14,
   "id": "bce203f8",
   "metadata": {},
   "outputs": [
    {
     "name": "stdout",
     "output_type": "stream",
     "text": [
      "Divided: 4.0\n"
     ]
    }
   ],
   "source": [
    "num = 20\n",
    "num /= 5\n",
    "print(\"Divided:\", num)"
   ]
  },
  {
   "cell_type": "code",
   "execution_count": 15,
   "id": "47d9ac81",
   "metadata": {},
   "outputs": [
    {
     "name": "stdout",
     "output_type": "stream",
     "text": [
      "Modulus: 2\n"
     ]
    }
   ],
   "source": [
    "num = 17\n",
    "num %= 5\n",
    "print(\"Modulus:\", num)"
   ]
  },
  {
   "cell_type": "code",
   "execution_count": 16,
   "id": "446db062",
   "metadata": {},
   "outputs": [
    {
     "name": "stdout",
     "output_type": "stream",
     "text": [
      "Exponentiated: 8\n"
     ]
    }
   ],
   "source": [
    "num = 2\n",
    "num **= 3\n",
    "print(\"Exponentiated:\", num)"
   ]
  },
  {
   "cell_type": "code",
   "execution_count": 17,
   "id": "889884eb",
   "metadata": {},
   "outputs": [
    {
     "name": "stdout",
     "output_type": "stream",
     "text": [
      "Floor Divided: 3\n"
     ]
    }
   ],
   "source": [
    "num = 15\n",
    "num //= 4\n",
    "print(\"Floor Divided:\", num)"
   ]
  },
  {
   "cell_type": "code",
   "execution_count": 18,
   "id": "f64f5cb3",
   "metadata": {},
   "outputs": [
    {
     "name": "stdout",
     "output_type": "stream",
     "text": [
      "Bitwise AND: 0b100010\n"
     ]
    }
   ],
   "source": [
    "num = 0b101010\n",
    "num &= 0b110011\n",
    "print(\"Bitwise AND:\", bin(num))"
   ]
  },
  {
   "cell_type": "code",
   "execution_count": 19,
   "id": "23730f00",
   "metadata": {},
   "outputs": [
    {
     "name": "stdout",
     "output_type": "stream",
     "text": [
      "Bitwise OR: 0b111011\n"
     ]
    }
   ],
   "source": [
    "num = 0b101010\n",
    "num |= 0b110011\n",
    "print(\"Bitwise OR:\", bin(num))"
   ]
  },
  {
   "cell_type": "code",
   "execution_count": 20,
   "id": "6e000b8c",
   "metadata": {},
   "outputs": [
    {
     "name": "stdout",
     "output_type": "stream",
     "text": [
      "Bitwise XOR: 0b11001\n"
     ]
    }
   ],
   "source": [
    "num = 0b101010\n",
    "num ^= 0b110011\n",
    "print(\"Bitwise XOR:\", bin(num))"
   ]
  },
  {
   "cell_type": "markdown",
   "id": "27746b92",
   "metadata": {},
   "source": [
    "# Comparison operators"
   ]
  },
  {
   "cell_type": "code",
   "execution_count": 24,
   "id": "819230eb",
   "metadata": {},
   "outputs": [
    {
     "name": "stdout",
     "output_type": "stream",
     "text": [
      "Equle False\n"
     ]
    }
   ],
   "source": [
    "num1  = 5\n",
    "num2 = 10\n",
    "result = num1 == num2\n",
    "print(\"Equle\", result)"
   ]
  },
  {
   "cell_type": "code",
   "execution_count": 25,
   "id": "baacdebd",
   "metadata": {},
   "outputs": [
    {
     "name": "stdout",
     "output_type": "stream",
     "text": [
      "Not Equal: True\n"
     ]
    }
   ],
   "source": [
    "num1 = 7\n",
    "num2 = 3\n",
    "result = num1 != num2\n",
    "print(\"Not Equal:\", result)\n"
   ]
  },
  {
   "cell_type": "code",
   "execution_count": 26,
   "id": "0309032f",
   "metadata": {},
   "outputs": [
    {
     "name": "stdout",
     "output_type": "stream",
     "text": [
      "Greater than: True\n"
     ]
    }
   ],
   "source": [
    "num1 = 10\n",
    "num2 = 7\n",
    "result = num1 > num2\n",
    "print(\"Greater than:\", result)"
   ]
  },
  {
   "cell_type": "code",
   "execution_count": 27,
   "id": "417f4e74",
   "metadata": {},
   "outputs": [
    {
     "name": "stdout",
     "output_type": "stream",
     "text": [
      "Less than: True\n"
     ]
    }
   ],
   "source": [
    "num1 = 4\n",
    "num2 = 6\n",
    "result = num1 < num2\n",
    "print(\"Less than:\", result)"
   ]
  },
  {
   "cell_type": "code",
   "execution_count": 28,
   "id": "4a34713d",
   "metadata": {},
   "outputs": [
    {
     "name": "stdout",
     "output_type": "stream",
     "text": [
      "Greater than or Equal to: True\n"
     ]
    }
   ],
   "source": [
    "num1 = 15\n",
    "num2 = 10\n",
    "result = num1 >= num2\n",
    "print(\"Greater than or Equal to:\", result)"
   ]
  },
  {
   "cell_type": "code",
   "execution_count": 29,
   "id": "d729977e",
   "metadata": {},
   "outputs": [
    {
     "name": "stdout",
     "output_type": "stream",
     "text": [
      "Greater than or Equal to: True\n"
     ]
    }
   ],
   "source": [
    "num1 = 15\n",
    "num2 = 10\n",
    "result = num1 >= num2\n",
    "print(\"Greater than or Equal to:\", result)"
   ]
  },
  {
   "cell_type": "code",
   "execution_count": 32,
   "id": "8a3240f8",
   "metadata": {},
   "outputs": [
    {
     "name": "stdout",
     "output_type": "stream",
     "text": [
      "String Comparison: False\n"
     ]
    }
   ],
   "source": [
    "str1 = \"hello\"\n",
    "str2 = \"world\"\n",
    "result = str1 == str2\n",
    "print(\"String Comparison:\", result)"
   ]
  },
  {
   "cell_type": "code",
   "execution_count": 33,
   "id": "af1d8bcb",
   "metadata": {},
   "outputs": [
    {
     "name": "stdout",
     "output_type": "stream",
     "text": [
      "String Comparison: False\n"
     ]
    }
   ],
   "source": [
    "str1 = \"hello\"\n",
    "str2 = \"world\"\n",
    "result = str1 == str2\n",
    "print(\"String Comparison:\", result)\n"
   ]
  },
  {
   "cell_type": "code",
   "execution_count": 34,
   "id": "e4bd8c6f",
   "metadata": {},
   "outputs": [
    {
     "name": "stdout",
     "output_type": "stream",
     "text": [
      "Membership: True\n"
     ]
    }
   ],
   "source": [
    "element = 5\n",
    "my_list = [3, 5, 7, 9]\n",
    "result = element in my_list\n",
    "print(\"Membership:\", result)"
   ]
  },
  {
   "cell_type": "code",
   "execution_count": 35,
   "id": "b7894ff6",
   "metadata": {},
   "outputs": [
    {
     "name": "stdout",
     "output_type": "stream",
     "text": [
      "Non-Membership: True\n"
     ]
    }
   ],
   "source": [
    "element = 4\n",
    "my_list = [3, 5, 7, 9]\n",
    "result = element not in my_list\n",
    "print(\"Non-Membership:\", result)"
   ]
  },
  {
   "cell_type": "markdown",
   "id": "7ead95bb",
   "metadata": {},
   "source": [
    "# Logical operators"
   ]
  },
  {
   "cell_type": "code",
   "execution_count": 38,
   "id": "2a619378",
   "metadata": {},
   "outputs": [
    {
     "name": "stdout",
     "output_type": "stream",
     "text": [
      "Logical AND: False\n"
     ]
    }
   ],
   "source": [
    "x = True\n",
    "y = False\n",
    "result = x and y\n",
    "print(\"Logical AND:\", result)"
   ]
  },
  {
   "cell_type": "code",
   "execution_count": 39,
   "id": "1d795588",
   "metadata": {},
   "outputs": [
    {
     "name": "stdout",
     "output_type": "stream",
     "text": [
      "Logical OR: True\n"
     ]
    }
   ],
   "source": [
    "x = True\n",
    "y = False\n",
    "result = x or y\n",
    "print(\"Logical OR:\", result)"
   ]
  },
  {
   "cell_type": "code",
   "execution_count": 40,
   "id": "a77419e8",
   "metadata": {},
   "outputs": [
    {
     "name": "stdout",
     "output_type": "stream",
     "text": [
      "Logical NOT: False\n"
     ]
    }
   ],
   "source": [
    "x = True\n",
    "result = not x\n",
    "print(\"Logical NOT:\", result)"
   ]
  },
  {
   "cell_type": "code",
   "execution_count": 41,
   "id": "11d06e58",
   "metadata": {},
   "outputs": [
    {
     "name": "stdout",
     "output_type": "stream",
     "text": [
      "Combined Logical Operators: True\n"
     ]
    }
   ],
   "source": [
    "x = True\n",
    "y = False\n",
    "z = True\n",
    "result = x and y or z\n",
    "print(\"Combined Logical Operators:\", result)"
   ]
  },
  {
   "cell_type": "code",
   "execution_count": 42,
   "id": "93312ea2",
   "metadata": {},
   "outputs": [
    {
     "name": "stdout",
     "output_type": "stream",
     "text": [
      "Short-circuit AND: True\n"
     ]
    }
   ],
   "source": [
    "num = 5\n",
    "result = num > 0 and num < 10\n",
    "print(\"Short-circuit AND:\", result)"
   ]
  },
  {
   "cell_type": "code",
   "execution_count": 43,
   "id": "aaa87720",
   "metadata": {},
   "outputs": [
    {
     "name": "stdout",
     "output_type": "stream",
     "text": [
      "Short-circuit AND: True\n"
     ]
    }
   ],
   "source": [
    "num = 5\n",
    "result = num > 0 and num < 10\n",
    "print(\"Short-circuit AND:\", result)"
   ]
  },
  {
   "cell_type": "code",
   "execution_count": 44,
   "id": "bae17385",
   "metadata": {},
   "outputs": [
    {
     "name": "stdout",
     "output_type": "stream",
     "text": [
      "Complex Logical Expression: True\n"
     ]
    }
   ],
   "source": [
    "x = True\n",
    "y = False\n",
    "z = True\n",
    "result = (x and y) or (not y and z)\n",
    "print(\"Complex Logical Expression:\", result)"
   ]
  },
  {
   "cell_type": "code",
   "execution_count": 45,
   "id": "88bd48fe",
   "metadata": {},
   "outputs": [
    {
     "name": "stdout",
     "output_type": "stream",
     "text": [
      "Logical Operators with Lists: True\n"
     ]
    }
   ],
   "source": [
    "list1 = [1, 2, 3]\n",
    "list2 = [3, 4, 5]\n",
    "result = len(list1) > 2 and len(list2) > 2\n",
    "print(\"Logical Operators with Lists:\", result)"
   ]
  },
  {
   "cell_type": "code",
   "execution_count": 46,
   "id": "34ce32d0",
   "metadata": {},
   "outputs": [
    {
     "name": "stdout",
     "output_type": "stream",
     "text": [
      "Logical Operators with Strings: True\n"
     ]
    }
   ],
   "source": [
    "str1 = \"hello\"\n",
    "str2 = \"world\"\n",
    "result = str1 != str2 or len(str1) < 5\n",
    "print(\"Logical Operators with Strings:\", result)"
   ]
  },
  {
   "cell_type": "code",
   "execution_count": 47,
   "id": "e27ce189",
   "metadata": {},
   "outputs": [
    {
     "name": "stdout",
     "output_type": "stream",
     "text": [
      "Combining Logical and Comparison Operators: True\n"
     ]
    }
   ],
   "source": [
    "num = 8\n",
    "result = (num > 5 and num < 10) or (num == 20)\n",
    "print(\"Combining Logical and Comparison Operators:\", result)"
   ]
  },
  {
   "cell_type": "markdown",
   "id": "75f1e853",
   "metadata": {},
   "source": [
    "# Identity operators"
   ]
  },
  {
   "cell_type": "code",
   "execution_count": 48,
   "id": "1106c1ca",
   "metadata": {},
   "outputs": [
    {
     "name": "stdout",
     "output_type": "stream",
     "text": [
      "Using 'is' operator: True\n"
     ]
    }
   ],
   "source": [
    "x = [1, 2, 3]\n",
    "y = x\n",
    "result = x is y\n",
    "print(\"Using 'is' operator:\", result)"
   ]
  },
  {
   "cell_type": "code",
   "execution_count": 49,
   "id": "44f956f1",
   "metadata": {},
   "outputs": [
    {
     "name": "stdout",
     "output_type": "stream",
     "text": [
      "Using 'is not' operator: True\n"
     ]
    }
   ],
   "source": [
    "x = [1, 2, 3]\n",
    "y = [1, 2, 3]\n",
    "result = x is not y\n",
    "print(\"Using 'is not' operator:\", result)"
   ]
  },
  {
   "cell_type": "code",
   "execution_count": 50,
   "id": "759552d2",
   "metadata": {},
   "outputs": [
    {
     "name": "stdout",
     "output_type": "stream",
     "text": [
      "Comparing with 'is' operator: True\n"
     ]
    }
   ],
   "source": [
    "value = None\n",
    "result = value is None\n",
    "print(\"Comparing with 'is' operator:\", result)"
   ]
  },
  {
   "cell_type": "code",
   "execution_count": 51,
   "id": "aadc9e10",
   "metadata": {},
   "outputs": [
    {
     "name": "stdout",
     "output_type": "stream",
     "text": [
      "Comparing with 'is not' operator: True\n"
     ]
    }
   ],
   "source": [
    "value = 42\n",
    "result = value is not None\n",
    "print(\"Comparing with 'is not' operator:\", result)"
   ]
  },
  {
   "cell_type": "code",
   "execution_count": 52,
   "id": "2a9d70cf",
   "metadata": {},
   "outputs": [
    {
     "name": "stdout",
     "output_type": "stream",
     "text": [
      "Using 'is' with Immutable Types: True\n"
     ]
    }
   ],
   "source": [
    "a = \"hello\"\n",
    "b = \"hello\"\n",
    "result = a is b\n",
    "print(\"Using 'is' with Immutable Types:\", result)"
   ]
  },
  {
   "cell_type": "code",
   "execution_count": 53,
   "id": "3ffccaaf",
   "metadata": {},
   "outputs": [
    {
     "name": "stdout",
     "output_type": "stream",
     "text": [
      "Using 'is not' with Immutable Types: True\n"
     ]
    }
   ],
   "source": [
    "a = \"hello\"\n",
    "b = \"world\"\n",
    "result = a is not b\n",
    "print(\"Using 'is not' with Immutable Types:\", result)"
   ]
  },
  {
   "cell_type": "code",
   "execution_count": 54,
   "id": "c354aa01",
   "metadata": {},
   "outputs": [
    {
     "name": "stdout",
     "output_type": "stream",
     "text": [
      "Using 'is' with Numbers: True\n"
     ]
    }
   ],
   "source": [
    "num1 = 10\n",
    "num2 = 10\n",
    "result = num1 is num2\n",
    "print(\"Using 'is' with Numbers:\", result)"
   ]
  },
  {
   "cell_type": "code",
   "execution_count": 55,
   "id": "68b0c9be",
   "metadata": {},
   "outputs": [
    {
     "name": "stdout",
     "output_type": "stream",
     "text": [
      "Using 'is' with Booleans: True\n"
     ]
    }
   ],
   "source": [
    "bool1 = True\n",
    "bool2 = True\n",
    "result = bool1 is bool2\n",
    "print(\"Using 'is' with Booleans:\", result)"
   ]
  },
  {
   "cell_type": "code",
   "execution_count": 56,
   "id": "17c1eb1c",
   "metadata": {},
   "outputs": [
    {
     "name": "stdout",
     "output_type": "stream",
     "text": [
      "Using 'is not' with Booleans: True\n"
     ]
    }
   ],
   "source": [
    "bool1 = False\n",
    "bool2 = True\n",
    "result = bool1 is not bool2\n",
    "print(\"Using 'is not' with Booleans:\", result)"
   ]
  },
  {
   "cell_type": "markdown",
   "id": "64b9b402",
   "metadata": {},
   "source": [
    "# Membership operators"
   ]
  },
  {
   "cell_type": "code",
   "execution_count": 57,
   "id": "7ecf1b56",
   "metadata": {},
   "outputs": [
    {
     "name": "stdout",
     "output_type": "stream",
     "text": [
      "Using 'in' operator with Lists: True\n"
     ]
    }
   ],
   "source": [
    "my_list = [1, 2, 3, 4, 5]\n",
    "element = 3\n",
    "result = element in my_list\n",
    "print(\"Using 'in' operator with Lists:\", result)"
   ]
  },
  {
   "cell_type": "code",
   "execution_count": 58,
   "id": "08041ca6",
   "metadata": {},
   "outputs": [
    {
     "name": "stdout",
     "output_type": "stream",
     "text": [
      "Using 'not in' operator with Lists: True\n"
     ]
    }
   ],
   "source": [
    "my_list = [1, 2, 3, 4, 5]\n",
    "element = 6\n",
    "result = element not in my_list\n",
    "print(\"Using 'not in' operator with Lists:\", result)"
   ]
  },
  {
   "cell_type": "code",
   "execution_count": 59,
   "id": "c4a89bae",
   "metadata": {},
   "outputs": [
    {
     "name": "stdout",
     "output_type": "stream",
     "text": [
      "Using 'in' operator with Strings: True\n"
     ]
    }
   ],
   "source": [
    "my_string = \"hello\"\n",
    "char = \"e\"\n",
    "result = char in my_string\n",
    "print(\"Using 'in' operator with Strings:\", result)"
   ]
  },
  {
   "cell_type": "code",
   "execution_count": 60,
   "id": "1991c13c",
   "metadata": {},
   "outputs": [
    {
     "name": "stdout",
     "output_type": "stream",
     "text": [
      "Using 'not in' operator with Strings: True\n"
     ]
    }
   ],
   "source": [
    "my_string = \"hello\"\n",
    "char = \"z\"\n",
    "result = char not in my_string\n",
    "print(\"Using 'not in' operator with Strings:\", result)"
   ]
  },
  {
   "cell_type": "code",
   "execution_count": 61,
   "id": "4b1989e9",
   "metadata": {},
   "outputs": [
    {
     "name": "stdout",
     "output_type": "stream",
     "text": [
      "Using 'in' operator with Sets: True\n"
     ]
    }
   ],
   "source": [
    "my_set = {1, 2, 3, 4, 5}\n",
    "element = 3\n",
    "result = element in my_set\n",
    "print(\"Using 'in' operator with Sets:\", result)"
   ]
  },
  {
   "cell_type": "code",
   "execution_count": 62,
   "id": "64a97c9f",
   "metadata": {},
   "outputs": [
    {
     "name": "stdout",
     "output_type": "stream",
     "text": [
      "Using 'not in' operator with Sets: True\n"
     ]
    }
   ],
   "source": [
    "my_set = {1, 2, 3, 4, 5}\n",
    "element = 6\n",
    "result = element not in my_set\n",
    "print(\"Using 'not in' operator with Sets:\", result)"
   ]
  },
  {
   "cell_type": "code",
   "execution_count": 63,
   "id": "7eaaffcd",
   "metadata": {},
   "outputs": [
    {
     "name": "stdout",
     "output_type": "stream",
     "text": [
      "Using 'in' operator with Dictionaries (Checking Keys): True\n"
     ]
    }
   ],
   "source": [
    "my_dict = {'a': 1, 'b': 2, 'c': 3}\n",
    "key = 'b'\n",
    "result = key in my_dict\n",
    "print(\"Using 'in' operator with Dictionaries (Checking Keys):\", result)"
   ]
  },
  {
   "cell_type": "code",
   "execution_count": 64,
   "id": "8767ae3e",
   "metadata": {},
   "outputs": [
    {
     "name": "stdout",
     "output_type": "stream",
     "text": [
      "Using 'not in' operator with Dictionaries (Checking Keys): True\n"
     ]
    }
   ],
   "source": [
    "my_dict = {'a': 1, 'b': 2, 'c': 3}\n",
    "key = 'd'\n",
    "result = key not in my_dict\n",
    "print(\"Using 'not in' operator with Dictionaries (Checking Keys):\", result)"
   ]
  },
  {
   "cell_type": "code",
   "execution_count": 65,
   "id": "610a1e8e",
   "metadata": {},
   "outputs": [
    {
     "name": "stdout",
     "output_type": "stream",
     "text": [
      "Using 'in' operator with Dictionaries (Checking Values): True\n"
     ]
    }
   ],
   "source": [
    "my_dict = {'a': 1, 'b': 2, 'c': 3}\n",
    "value = 2\n",
    "result = value in my_dict.values()\n",
    "print(\"Using 'in' operator with Dictionaries (Checking Values):\", result)"
   ]
  },
  {
   "cell_type": "code",
   "execution_count": 66,
   "id": "1d239cd2",
   "metadata": {},
   "outputs": [
    {
     "name": "stdout",
     "output_type": "stream",
     "text": [
      "Using 'not in' operator with Dictionaries (Checking Values): True\n"
     ]
    }
   ],
   "source": [
    "my_dict = {'a': 1, 'b': 2, 'c': 3}\n",
    "value = 4\n",
    "result = value not in my_dict.values()\n",
    "print(\"Using 'not in' operator with Dictionaries (Checking Values):\", result)"
   ]
  },
  {
   "cell_type": "markdown",
   "id": "32342a69",
   "metadata": {},
   "source": [
    "# Bitwise operators"
   ]
  },
  {
   "cell_type": "markdown",
   "id": "89283311",
   "metadata": {},
   "source": [
    "When working with binary numbers, we use the `bin()` function to represent them in binary (base-2) form in Python. When you use the `bin()` function to represent a number in binary, Python prefixes the number with \"0b\" to indicate that it's a binary number.\n",
    "\n",
    "In your program:\n",
    "```python\n",
    "num1 = 0b1010\n",
    "num2 = 0b1100\n",
    "result = num1 & num2\n",
    "print(\"Bitwise AND:\", bin(result))\n",
    "```\n",
    "\n",
    "Here, the value of `num1` is `0b1010`, which in binary representation is `10`, and the value of `num2` is `0b1100`, which in binary is `12`. When you use the bitwise operator `&` between `num1` and `num2`, it performs a bitwise AND operation, resulting in the binary representation `0b1000`, which is `8` in decimal.\n",
    "\n",
    "Using `bin(result)` allows us to display the appropriate binary representation when printing, so we can see how the bitwise AND operation has been applied to the two numbers."
   ]
  },
  {
   "cell_type": "code",
   "execution_count": 72,
   "id": "5542a614",
   "metadata": {},
   "outputs": [
    {
     "name": "stdout",
     "output_type": "stream",
     "text": [
      "Bitwise AND: 0b1000\n"
     ]
    }
   ],
   "source": [
    "num1 = 0b1010\n",
    "num2 = 0b1100\n",
    "result = num1 & num2\n",
    "print(\"Bitwise AND:\",bin(result))"
   ]
  },
  {
   "cell_type": "code",
   "execution_count": 73,
   "id": "a3d3e125",
   "metadata": {},
   "outputs": [
    {
     "name": "stdout",
     "output_type": "stream",
     "text": [
      "Bitwise OR: 0b1110\n"
     ]
    }
   ],
   "source": [
    "num1 = 0b1010\n",
    "num2 = 0b1100\n",
    "result = num1 | num2\n",
    "print(\"Bitwise OR:\",bin(result))"
   ]
  },
  {
   "cell_type": "code",
   "execution_count": 74,
   "id": "eacb46b6",
   "metadata": {},
   "outputs": [
    {
     "name": "stdout",
     "output_type": "stream",
     "text": [
      "Bitwise XOR: 0b110\n"
     ]
    }
   ],
   "source": [
    "num1 = 0b1010\n",
    "num2 = 0b1100\n",
    "result = num1 ^ num2\n",
    "print(\"Bitwise XOR:\", bin(result))"
   ]
  },
  {
   "cell_type": "code",
   "execution_count": 75,
   "id": "9f2ff55d",
   "metadata": {},
   "outputs": [
    {
     "name": "stdout",
     "output_type": "stream",
     "text": [
      "Bitwise NOT: -0b1011\n"
     ]
    }
   ],
   "source": [
    "num = 0b1010\n",
    "result = ~num\n",
    "print(\"Bitwise NOT:\", bin(result))"
   ]
  },
  {
   "cell_type": "code",
   "execution_count": 76,
   "id": "a11b498c",
   "metadata": {},
   "outputs": [
    {
     "name": "stdout",
     "output_type": "stream",
     "text": [
      "Left Shift: 0b101000\n"
     ]
    }
   ],
   "source": [
    "num = 0b1010\n",
    "shift_amount = 2\n",
    "result = num << shift_amount\n",
    "print(\"Left Shift:\", bin(result))"
   ]
  },
  {
   "cell_type": "code",
   "execution_count": 77,
   "id": "35847d7f",
   "metadata": {},
   "outputs": [
    {
     "name": "stdout",
     "output_type": "stream",
     "text": [
      "Right Shift: 0b10\n"
     ]
    }
   ],
   "source": [
    "num = 0b1010\n",
    "shift_amount = 2\n",
    "result = num >> shift_amount\n",
    "print(\"Right Shift:\", bin(result))"
   ]
  },
  {
   "cell_type": "code",
   "execution_count": 78,
   "id": "4fd701c4",
   "metadata": {},
   "outputs": [
    {
     "name": "stdout",
     "output_type": "stream",
     "text": [
      "Toggle a Bit: 0b1000\n"
     ]
    }
   ],
   "source": [
    "num = 0b1010\n",
    "bit_position = 1\n",
    "result = num ^ (1 << bit_position)\n",
    "print(\"Toggle a Bit:\", bin(result))"
   ]
  },
  {
   "cell_type": "code",
   "execution_count": 79,
   "id": "992dc9f5",
   "metadata": {},
   "outputs": [
    {
     "name": "stdout",
     "output_type": "stream",
     "text": [
      "Toggle a Bit: 0b1000\n"
     ]
    }
   ],
   "source": [
    "num = 0b1010\n",
    "bit_position = 1\n",
    "result = num ^ (1 << bit_position)\n",
    "print(\"Toggle a Bit:\", bin(result))"
   ]
  },
  {
   "cell_type": "code",
   "execution_count": 80,
   "id": "813d8779",
   "metadata": {},
   "outputs": [
    {
     "name": "stdout",
     "output_type": "stream",
     "text": [
      "Clear a Bit: 0b1000\n"
     ]
    }
   ],
   "source": [
    "num = 0b1010\n",
    "bit_position = 1\n",
    "result = num & ~(1 << bit_position)\n",
    "print(\"Clear a Bit:\", bin(result))"
   ]
  },
  {
   "cell_type": "code",
   "execution_count": 81,
   "id": "b72cb22c",
   "metadata": {},
   "outputs": [
    {
     "name": "stdout",
     "output_type": "stream",
     "text": [
      "Check if a Bit is Set: True\n"
     ]
    }
   ],
   "source": [
    "num = 0b1010\n",
    "bit_position = 1\n",
    "bit_is_set = (num & (1 << bit_position)) != 0\n",
    "print(\"Check if a Bit is Set:\", bit_is_set)"
   ]
  },
  {
   "cell_type": "markdown",
   "id": "531b48f6",
   "metadata": {},
   "source": [
    "# Data Types"
   ]
  },
  {
   "cell_type": "markdown",
   "id": "0ad1b0f0",
   "metadata": {},
   "source": [
    "# 1 String"
   ]
  },
  {
   "cell_type": "markdown",
   "id": "f796a5ff",
   "metadata": {},
   "source": [
    "Strings in python are surrounded by either single quotation marks, or double quotation marks.\n",
    "\n",
    "'hello' is the same as \"hello\"."
   ]
  },
  {
   "cell_type": "raw",
   "id": "5b51b613",
   "metadata": {},
   "source": [
    "Method:capitalize()"
   ]
  },
  {
   "cell_type": "code",
   "execution_count": 82,
   "id": "28fa2e59",
   "metadata": {},
   "outputs": [
    {
     "name": "stdout",
     "output_type": "stream",
     "text": [
      "Hello, world!\n"
     ]
    }
   ],
   "source": [
    "sentence = \"hello, world!\"\n",
    "capitalized_sentence = sentence.capitalize()\n",
    "print(capitalized_sentence)"
   ]
  },
  {
   "cell_type": "code",
   "execution_count": 83,
   "id": "eef3db94",
   "metadata": {},
   "outputs": [
    {
     "name": "stdout",
     "output_type": "stream",
     "text": [
      "Python\n"
     ]
    }
   ],
   "source": [
    "word = \"PYTHON\"\n",
    "capitalized_word = word.capitalize()\n",
    "print(capitalized_word)"
   ]
  },
  {
   "cell_type": "code",
   "execution_count": 84,
   "id": "2cf421fa",
   "metadata": {},
   "outputs": [
    {
     "name": "stdout",
     "output_type": "stream",
     "text": [
      "Hello to the python world\n"
     ]
    }
   ],
   "source": [
    "phrase = \"hello to the python world\"\n",
    "capitalized_phrase = phrase.capitalize()\n",
    "print(capitalized_phrase)"
   ]
  },
  {
   "cell_type": "code",
   "execution_count": 85,
   "id": "1adf2fcf",
   "metadata": {},
   "outputs": [
    {
     "name": "stdout",
     "output_type": "stream",
     "text": [
      "Version 2.0\n"
     ]
    }
   ],
   "source": [
    "text = \"version 2.0\"\n",
    "capitalized_text = text.capitalize()\n",
    "print(capitalized_text)"
   ]
  },
  {
   "cell_type": "code",
   "execution_count": 86,
   "id": "0337f863",
   "metadata": {},
   "outputs": [
    {
     "name": "stdout",
     "output_type": "stream",
     "text": [
      "!important task\n"
     ]
    }
   ],
   "source": [
    "input_str = \"!important task\"\n",
    "capitalized_str = input_str.capitalize()\n",
    "print(capitalized_str)"
   ]
  },
  {
   "cell_type": "markdown",
   "id": "95ce6745",
   "metadata": {},
   "source": [
    "method:casefold()"
   ]
  },
  {
   "cell_type": "code",
   "execution_count": 87,
   "id": "4bb9d1ee",
   "metadata": {},
   "outputs": [
    {
     "name": "stdout",
     "output_type": "stream",
     "text": [
      "True\n"
     ]
    }
   ],
   "source": [
    "string1 = \"Hello\"\n",
    "string2 = \"hello\"\n",
    "result = string1.casefold() == string2.casefold()\n",
    "print(result)"
   ]
  },
  {
   "cell_type": "code",
   "execution_count": 88,
   "id": "c5f17eaf",
   "metadata": {},
   "outputs": [
    {
     "name": "stdout",
     "output_type": "stream",
     "text": [
      "résumé\n"
     ]
    }
   ],
   "source": [
    "accented = \"résumé\"\n",
    "casefolded = accented.casefold()\n",
    "print(casefolded)"
   ]
  },
  {
   "cell_type": "code",
   "execution_count": 89,
   "id": "ea34b156",
   "metadata": {},
   "outputs": [
    {
     "name": "stdout",
     "output_type": "stream",
     "text": [
      "False\n"
     ]
    }
   ],
   "source": [
    "input_str = \"Welcome to Pythön!\"\n",
    "search_str = \"python\"\n",
    "result = search_str.casefold() in input_str.casefold()\n",
    "print(result)"
   ]
  },
  {
   "cell_type": "code",
   "execution_count": 90,
   "id": "5233557a",
   "metadata": {},
   "outputs": [
    {
     "name": "stdout",
     "output_type": "stream",
     "text": [
      "False\n"
     ]
    }
   ],
   "source": [
    "nfc_string = \"café\"\n",
    "nfd_string = \"cafe\\u0301\"\n",
    "result = nfc_string.casefold() == nfd_string.casefold()\n",
    "print(result)"
   ]
  },
  {
   "cell_type": "code",
   "execution_count": 91,
   "id": "f95bb510",
   "metadata": {},
   "outputs": [
    {
     "name": "stdout",
     "output_type": "stream",
     "text": [
      "['strasse', 'strasse']\n"
     ]
    }
   ],
   "source": [
    "german_words = [\"straße\", \"strasse\"]\n",
    "normalized_words = [word.casefold() for word in german_words]\n",
    "print(normalized_words)"
   ]
  },
  {
   "cell_type": "markdown",
   "id": "2f151f8b",
   "metadata": {},
   "source": [
    "Method:center()"
   ]
  },
  {
   "cell_type": "code",
   "execution_count": 92,
   "id": "05397ba4",
   "metadata": {},
   "outputs": [
    {
     "name": "stdout",
     "output_type": "stream",
     "text": [
      "  Hello   \n"
     ]
    }
   ],
   "source": [
    "text = \"Hello\"\n",
    "centered_text = text.center(10)\n",
    "print(centered_text)"
   ]
  },
  {
   "cell_type": "code",
   "execution_count": 93,
   "id": "9982b6e3",
   "metadata": {},
   "outputs": [
    {
     "name": "stdout",
     "output_type": "stream",
     "text": [
      "*****Python****\n"
     ]
    }
   ],
   "source": [
    "word = \"Python\"\n",
    "centered_word = word.center(15, \"*\")\n",
    "print(centered_word)"
   ]
  },
  {
   "cell_type": "code",
   "execution_count": 94,
   "id": "5dfa0764",
   "metadata": {},
   "outputs": [
    {
     "name": "stdout",
     "output_type": "stream",
     "text": [
      "******************************\n",
      "      Important Message       \n",
      "******************************\n"
     ]
    }
   ],
   "source": [
    "message = \"Important Message\"\n",
    "border = \"*\" * 30\n",
    "centered_message = message.center(len(border))\n",
    "decorated_message = f\"{border}\\n{centered_message}\\n{border}\"\n",
    "print(decorated_message)"
   ]
  },
  {
   "cell_type": "code",
   "execution_count": 95,
   "id": "42ae3e1f",
   "metadata": {},
   "outputs": [
    {
     "name": "stdout",
     "output_type": "stream",
     "text": [
      "1 22 333 4444 555550\n"
     ]
    }
   ],
   "source": [
    "numbers = \"1 22 333 4444 55555\"\n",
    "centered_numbers = numbers.center(20, \"0\")\n",
    "print(centered_numbers)"
   ]
  },
  {
   "cell_type": "code",
   "execution_count": 96,
   "id": "1e6e7a8d",
   "metadata": {},
   "outputs": [
    {
     "name": "stdout",
     "output_type": "stream",
     "text": [
      "        Chapter 1: Introduction         \n"
     ]
    }
   ],
   "source": [
    "title = \"Chapter 1: Introduction\"\n",
    "page_width = 40\n",
    "centered_title = title.center(page_width)\n",
    "print(centered_title)"
   ]
  },
  {
   "cell_type": "markdown",
   "id": "ad7f8b47",
   "metadata": {},
   "source": [
    "Method:count()"
   ]
  },
  {
   "cell_type": "code",
   "execution_count": 97,
   "id": "2aff4133",
   "metadata": {},
   "outputs": [
    {
     "name": "stdout",
     "output_type": "stream",
     "text": [
      "'programming' occurs 2 times.\n"
     ]
    }
   ],
   "source": [
    "text = \"programming is fun, programming is creative\"\n",
    "substring = \"programming\"\n",
    "count = text.count(substring)\n",
    "print(f\"'{substring}' occurs {count} times.\")"
   ]
  },
  {
   "cell_type": "code",
   "execution_count": 98,
   "id": "fe5566d9",
   "metadata": {},
   "outputs": [
    {
     "name": "stdout",
     "output_type": "stream",
     "text": [
      "'o' occurs 4 times.\n"
     ]
    }
   ],
   "source": [
    "sentence = \"The quick brown fox jumps over the lazy dog\"\n",
    "character = \"o\"\n",
    "count = sentence.count(character)\n",
    "print(f\"'{character}' occurs {count} times.\")"
   ]
  },
  {
   "cell_type": "code",
   "execution_count": 99,
   "id": "3d513392",
   "metadata": {},
   "outputs": [
    {
     "name": "stdout",
     "output_type": "stream",
     "text": [
      "'python' (case-insensitive) occurs 2 times.\n"
     ]
    }
   ],
   "source": [
    "text = \"Python is a programming language, python is versatile.\"\n",
    "substring = \"python\"\n",
    "count = text.lower().count(substring)\n",
    "print(f\"'{substring}' (case-insensitive) occurs {count} times.\")"
   ]
  },
  {
   "cell_type": "code",
   "execution_count": 100,
   "id": "c4fc63f4",
   "metadata": {},
   "outputs": [
    {
     "name": "stdout",
     "output_type": "stream",
     "text": [
      "'ana' occurs 1 times (overlapping).\n"
     ]
    }
   ],
   "source": [
    "word = \"banana\"\n",
    "substring = \"ana\"\n",
    "count = word.count(substring)\n",
    "print(f\"'{substring}' occurs {count} times (overlapping).\")"
   ]
  },
  {
   "cell_type": "code",
   "execution_count": 101,
   "id": "d03858d9",
   "metadata": {},
   "outputs": [
    {
     "name": "stdout",
     "output_type": "stream",
     "text": [
      "'How' occurs 1 times within the specified range.\n"
     ]
    }
   ],
   "source": [
    "text = \"Hello, how are you? How's everything going?\"\n",
    "substring = \"How\"\n",
    "start_index = 10\n",
    "end_index = 35\n",
    "count = text.count(substring, start_index, end_index)\n",
    "print(f\"'{substring}' occurs {count} times within the specified range.\")\n"
   ]
  },
  {
   "cell_type": "markdown",
   "id": "c7fef86b",
   "metadata": {},
   "source": [
    "Method:encode()"
   ]
  },
  {
   "cell_type": "markdown",
   "id": "e9b55053",
   "metadata": {},
   "source": [
    "In your program, the output `b'Hello, !'` appears because when you use the `encode()` method, it returns a bytes object that represents the string encoded in a specific format. The `b` prefix indicates that the output is a bytes object representing the binary data of the encoded string. This is a common representation for binary data in Python."
   ]
  },
  {
   "cell_type": "code",
   "execution_count": 102,
   "id": "fdd0e842",
   "metadata": {},
   "outputs": [
    {
     "name": "stdout",
     "output_type": "stream",
     "text": [
      "b'Hello, world!'\n"
     ]
    }
   ],
   "source": [
    "text = \"Hello, world!\"\n",
    "encoded_text = text.encode()\n",
    "print(encoded_text)"
   ]
  },
  {
   "cell_type": "code",
   "execution_count": 103,
   "id": "f5883a24",
   "metadata": {},
   "outputs": [
    {
     "name": "stdout",
     "output_type": "stream",
     "text": [
      "b'Hello, world!'\n"
     ]
    }
   ],
   "source": [
    "text = \"Hello, world!\"\n",
    "encoded_text = text.encode(\"ascii\")\n",
    "print(encoded_text)"
   ]
  },
  {
   "cell_type": "code",
   "execution_count": 104,
   "id": "5986e3e2",
   "metadata": {},
   "outputs": [
    {
     "name": "stdout",
     "output_type": "stream",
     "text": [
      "Encoding failed due to non-ASCII characters.\n"
     ]
    }
   ],
   "source": [
    "text = \"Hello, 世界!\"\n",
    "try:\n",
    "    encoded_text = text.encode(\"ascii\")\n",
    "    print(encoded_text)\n",
    "except UnicodeEncodeError:\n",
    "    print(\"Encoding failed due to non-ASCII characters.\")"
   ]
  },
  {
   "cell_type": "code",
   "execution_count": 105,
   "id": "8ffc53ec",
   "metadata": {},
   "outputs": [
    {
     "name": "stdout",
     "output_type": "stream",
     "text": [
      "50 79 74 68 6F 6E E7 BC 96 E7 A8 8B\n"
     ]
    }
   ],
   "source": [
    "text = \"Python编程\"\n",
    "encoded_text = text.encode(\"utf-8\")\n",
    "encoded_bytes = \" \".join([f\"{byte:02X}\" for byte in encoded_text])\n",
    "print(encoded_bytes)"
   ]
  },
  {
   "cell_type": "code",
   "execution_count": 106,
   "id": "471d8d73",
   "metadata": {},
   "outputs": [
    {
     "name": "stdout",
     "output_type": "stream",
     "text": [
      "b'Hello, !'\n"
     ]
    }
   ],
   "source": [
    "text = \"Hello, 世界!\"\n",
    "encoded_text = text.encode(\"ascii\", errors=\"ignore\")\n",
    "print(encoded_text)"
   ]
  },
  {
   "cell_type": "code",
   "execution_count": null,
   "id": "b691c5de",
   "metadata": {},
   "outputs": [],
   "source": []
  }
 ],
 "metadata": {
  "kernelspec": {
   "display_name": "Python 3 (ipykernel)",
   "language": "python",
   "name": "python3"
  },
  "language_info": {
   "codemirror_mode": {
    "name": "ipython",
    "version": 3
   },
   "file_extension": ".py",
   "mimetype": "text/x-python",
   "name": "python",
   "nbconvert_exporter": "python",
   "pygments_lexer": "ipython3",
   "version": "3.10.11"
  }
 },
 "nbformat": 4,
 "nbformat_minor": 5
}
