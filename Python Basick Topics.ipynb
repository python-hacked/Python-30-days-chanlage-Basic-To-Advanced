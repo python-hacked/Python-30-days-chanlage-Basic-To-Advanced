{
 "cells": [
  {
   "cell_type": "markdown",
   "id": "141d3537",
   "metadata": {},
   "source": [
    "**Day 1: Introduction to Python, Installing Python, Running Your First Program**\n",
    "\n",
    "**Introduction to Python:**\n",
    "- Python is a high-level programming language known for its simplicity and readability.\n",
    "- It is widely used for web development, data analysis, artificial intelligence, and more.\n",
    "- Python uses indentation to define code blocks, promoting clean and organized code.\n",
    "\n",
    "**Installing Python:**\n",
    "1. Visit the official Python website: https://www.python.org/\n",
    "2. Download the latest version of Python for your operating system (Windows, macOS, Linux).\n",
    "3. Run the installer and follow the installation instructions.\n",
    "4. During installation, make sure to check the option to add Python to your system PATH, which allows you to run Python from the command line.\n",
    "\n",
    "**Running Your First Program:**\n",
    "1. Open a text editor (e.g., Notepad on Windows, TextEdit on macOS) or use an integrated development environment (IDE) like Visual Studio Code, PyCharm, or IDLE.\n",
    "2. Type the following code:\n",
    "\n",
    "```python\n",
    "print(\"Hello, world!\")\n",
    "```\n",
    "\n",
    "3. Save the file with a `.py` extension (e.g., `first_program.py`).\n",
    "4. Open your command prompt (Windows) or terminal (macOS, Linux).\n",
    "5. Navigate to the directory where you saved the `.py` file using the `cd` command.\n",
    "6. Run the program by entering: `python first_program.py`\n",
    "7. You should see the output: `Hello, world!`\n",
    "\n",
    "**Notes:**\n",
    "- Python uses the `print()` function to display output to the console.\n",
    "- The text within double or single quotes is a string literal.\n",
    "- Make sure to save your Python files with the `.py` extension.\n",
    "- Indentation is crucial in Python. Use consistent indentation to define code blocks.\n",
    "- The `python` command followed by the filename runs the Python script.\n",
    "\n",
    "**Tips:**\n",
    "- Experiment with changing the text inside the `print()` function to see different outputs.\n",
    "- Familiarize yourself with the basic syntax and structure of Python code.\n",
    "- Take time to understand the importance of indentation in Python.\n",
    "- In subsequent days, you'll explore more about variables, data types, and basic operations."
   ]
  },
  {
   "cell_type": "markdown",
   "id": "1cfe4e61",
   "metadata": {},
   "source": [
    " Variables, Data Types (Integers, Floats, Strings), Basic Operations"
   ]
  },
  {
   "cell_type": "markdown",
   "id": "237041a3",
   "metadata": {},
   "source": [
    "Variables:\n",
    "\n",
    "Variables are used to store data values in a program.\n",
    "You can think of them as named containers for holding information.\n",
    "In Python, variable names are case-sensitive and can consist of letters, numbers, and underscores. They cannot start with a number."
   ]
  },
  {
   "cell_type": "code",
   "execution_count": 1,
   "id": "cdcf354d",
   "metadata": {},
   "outputs": [],
   "source": [
    "name = \"Alice\"\n",
    "age = 25"
   ]
  },
  {
   "cell_type": "markdown",
   "id": "2bb4bd71",
   "metadata": {},
   "source": [
    "Data Types:\n",
    "\n",
    "Python has various built-in data types to represent different kinds of values.\n",
    "Common data types include integers, floats, and strings.\n",
    "Integers:\n",
    "\n",
    "Integers are whole numbers without decimal points.\n",
    "Examples: -2, 0, 42\n",
    "Floats:\n",
    "\n",
    "Floats (floating-point numbers) represent numbers with decimal points.\n",
    "Examples: 3.14, -0.5, 2.0\n",
    "Strings:\n",
    "\n",
    "Strings are sequences of characters enclosed in either single or double quotes.\n",
    "Examples: \"Hello, world!\", 'Python'"
   ]
  },
  {
   "cell_type": "markdown",
   "id": "2c1f9f57",
   "metadata": {},
   "source": [
    "# Basic Operations:"
   ]
  },
  {
   "cell_type": "markdown",
   "id": "d32a9c20",
   "metadata": {},
   "source": [
    "Python allows you to perform various operations on variables and data types."
   ]
  },
  {
   "cell_type": "markdown",
   "id": "27c62a90",
   "metadata": {},
   "source": [
    "Arithmetic Operations:"
   ]
  },
  {
   "cell_type": "markdown",
   "id": "062be184",
   "metadata": {},
   "source": [
    "Addition (+), subtraction (-), multiplication (*), division (/), exponentiation (**), and modulus (%)."
   ]
  },
  {
   "cell_type": "code",
   "execution_count": 21,
   "id": "2545f6a4",
   "metadata": {},
   "outputs": [
    {
     "name": "stdout",
     "output_type": "stream",
     "text": [
      "sum 15\n"
     ]
    }
   ],
   "source": [
    "num1 = 5\n",
    "num2 = 10\n",
    "num3 = num1 + num2\n",
    "print(\"sum\",num3)"
   ]
  },
  {
   "cell_type": "code",
   "execution_count": 3,
   "id": "765f9274",
   "metadata": {},
   "outputs": [
    {
     "name": "stdout",
     "output_type": "stream",
     "text": [
      "Difference: 3\n"
     ]
    }
   ],
   "source": [
    "num1 = 10\n",
    "num2 = 7\n",
    "diff_result = num1 - num2\n",
    "print(\"Difference:\", diff_result)\n"
   ]
  },
  {
   "cell_type": "code",
   "execution_count": 4,
   "id": "4b36d023",
   "metadata": {},
   "outputs": [
    {
     "name": "stdout",
     "output_type": "stream",
     "text": [
      "Product: 24\n"
     ]
    }
   ],
   "source": [
    "num1 = 4\n",
    "num2 = 6\n",
    "prod_result = num1 * num2\n",
    "print(\"Product:\", prod_result)\n"
   ]
  },
  {
   "cell_type": "code",
   "execution_count": 5,
   "id": "b49fe765",
   "metadata": {},
   "outputs": [
    {
     "name": "stdout",
     "output_type": "stream",
     "text": [
      "Quotient: 5.0\n"
     ]
    }
   ],
   "source": [
    "num1 = 20\n",
    "num2 = 4\n",
    "div_result = num1 / num2\n",
    "print(\"Quotient:\", div_result)"
   ]
  },
  {
   "cell_type": "code",
   "execution_count": 6,
   "id": "75308758",
   "metadata": {},
   "outputs": [
    {
     "name": "stdout",
     "output_type": "stream",
     "text": [
      "Modulus: 2\n"
     ]
    }
   ],
   "source": [
    "num1 = 17\n",
    "num2 = 5\n",
    "mod_result = num1 % num2\n",
    "print(\"Modulus:\", mod_result)\n"
   ]
  },
  {
   "cell_type": "code",
   "execution_count": 7,
   "id": "cc090a61",
   "metadata": {},
   "outputs": [
    {
     "name": "stdout",
     "output_type": "stream",
     "text": [
      "Exponent: 8\n"
     ]
    }
   ],
   "source": [
    "base = 2\n",
    "exponent = 3\n",
    "exp_result = base ** exponent\n",
    "print(\"Exponent:\", exp_result)"
   ]
  },
  {
   "cell_type": "code",
   "execution_count": 8,
   "id": "651c98f4",
   "metadata": {},
   "outputs": [
    {
     "name": "stdout",
     "output_type": "stream",
     "text": [
      "Floor Division: 3\n"
     ]
    }
   ],
   "source": [
    "num1 = 15\n",
    "num2 = 4\n",
    "floor_div_result = num1 // num2\n",
    "print(\"Floor Division:\", floor_div_result)\n"
   ]
  },
  {
   "cell_type": "code",
   "execution_count": 23,
   "id": "090b6362",
   "metadata": {},
   "outputs": [
    {
     "name": "stdout",
     "output_type": "stream",
     "text": [
      "Compound Interest: 157.62500000000023\n"
     ]
    }
   ],
   "source": [
    "principal = 1000\n",
    "rate = 0.05\n",
    "time = 3\n",
    "comp_interest = principal*(1+rate)**time - principal\n",
    "print(\"Compound Interest:\", comp_interest)"
   ]
  },
  {
   "cell_type": "code",
   "execution_count": 10,
   "id": "0b45866b",
   "metadata": {},
   "outputs": [
    {
     "name": "stdout",
     "output_type": "stream",
     "text": [
      "Average: 36.0\n"
     ]
    }
   ],
   "source": [
    "nums = [12, 24, 36, 48, 60]\n",
    "avg = sum(nums) / len(nums)\n",
    "print(\"Average:\", avg)"
   ]
  },
  {
   "cell_type": "markdown",
   "id": "5f9e3c69",
   "metadata": {},
   "source": [
    "# Assignment operators"
   ]
  },
  {
   "cell_type": "code",
   "execution_count": 11,
   "id": "195fdbc5",
   "metadata": {},
   "outputs": [
    {
     "name": "stdout",
     "output_type": "stream",
     "text": [
      "Incremented: 6\n"
     ]
    }
   ],
   "source": [
    "num = 5\n",
    "num += 1\n",
    "print(\"Incremented:\", num)"
   ]
  },
  {
   "cell_type": "code",
   "execution_count": 12,
   "id": "68db846f",
   "metadata": {},
   "outputs": [
    {
     "name": "stdout",
     "output_type": "stream",
     "text": [
      "Decremented: 6\n"
     ]
    }
   ],
   "source": [
    "num = 8\n",
    "num -= 2\n",
    "print(\"Decremented:\", num)"
   ]
  },
  {
   "cell_type": "code",
   "execution_count": 13,
   "id": "658532d6",
   "metadata": {},
   "outputs": [
    {
     "name": "stdout",
     "output_type": "stream",
     "text": [
      "Multiplied: 12\n"
     ]
    }
   ],
   "source": [
    "num = 3\n",
    "num *= 4\n",
    "print(\"Multiplied:\", num)"
   ]
  },
  {
   "cell_type": "code",
   "execution_count": 14,
   "id": "bce203f8",
   "metadata": {},
   "outputs": [
    {
     "name": "stdout",
     "output_type": "stream",
     "text": [
      "Divided: 4.0\n"
     ]
    }
   ],
   "source": [
    "num = 20\n",
    "num /= 5\n",
    "print(\"Divided:\", num)"
   ]
  },
  {
   "cell_type": "code",
   "execution_count": 15,
   "id": "47d9ac81",
   "metadata": {},
   "outputs": [
    {
     "name": "stdout",
     "output_type": "stream",
     "text": [
      "Modulus: 2\n"
     ]
    }
   ],
   "source": [
    "num = 17\n",
    "num %= 5\n",
    "print(\"Modulus:\", num)"
   ]
  },
  {
   "cell_type": "code",
   "execution_count": 16,
   "id": "446db062",
   "metadata": {},
   "outputs": [
    {
     "name": "stdout",
     "output_type": "stream",
     "text": [
      "Exponentiated: 8\n"
     ]
    }
   ],
   "source": [
    "num = 2\n",
    "num **= 3\n",
    "print(\"Exponentiated:\", num)"
   ]
  },
  {
   "cell_type": "code",
   "execution_count": 17,
   "id": "889884eb",
   "metadata": {},
   "outputs": [
    {
     "name": "stdout",
     "output_type": "stream",
     "text": [
      "Floor Divided: 3\n"
     ]
    }
   ],
   "source": [
    "num = 15\n",
    "num //= 4\n",
    "print(\"Floor Divided:\", num)"
   ]
  },
  {
   "cell_type": "code",
   "execution_count": 18,
   "id": "f64f5cb3",
   "metadata": {},
   "outputs": [
    {
     "name": "stdout",
     "output_type": "stream",
     "text": [
      "Bitwise AND: 0b100010\n"
     ]
    }
   ],
   "source": [
    "num = 0b101010\n",
    "num &= 0b110011\n",
    "print(\"Bitwise AND:\", bin(num))"
   ]
  },
  {
   "cell_type": "code",
   "execution_count": 19,
   "id": "23730f00",
   "metadata": {},
   "outputs": [
    {
     "name": "stdout",
     "output_type": "stream",
     "text": [
      "Bitwise OR: 0b111011\n"
     ]
    }
   ],
   "source": [
    "num = 0b101010\n",
    "num |= 0b110011\n",
    "print(\"Bitwise OR:\", bin(num))"
   ]
  },
  {
   "cell_type": "code",
   "execution_count": 20,
   "id": "6e000b8c",
   "metadata": {},
   "outputs": [
    {
     "name": "stdout",
     "output_type": "stream",
     "text": [
      "Bitwise XOR: 0b11001\n"
     ]
    }
   ],
   "source": [
    "num = 0b101010\n",
    "num ^= 0b110011\n",
    "print(\"Bitwise XOR:\", bin(num))"
   ]
  },
  {
   "cell_type": "markdown",
   "id": "27746b92",
   "metadata": {},
   "source": [
    "# Comparison operators"
   ]
  },
  {
   "cell_type": "code",
   "execution_count": 24,
   "id": "819230eb",
   "metadata": {},
   "outputs": [
    {
     "name": "stdout",
     "output_type": "stream",
     "text": [
      "Equle False\n"
     ]
    }
   ],
   "source": [
    "num1  = 5\n",
    "num2 = 10\n",
    "result = num1 == num2\n",
    "print(\"Equle\", result)"
   ]
  },
  {
   "cell_type": "code",
   "execution_count": 25,
   "id": "baacdebd",
   "metadata": {},
   "outputs": [
    {
     "name": "stdout",
     "output_type": "stream",
     "text": [
      "Not Equal: True\n"
     ]
    }
   ],
   "source": [
    "num1 = 7\n",
    "num2 = 3\n",
    "result = num1 != num2\n",
    "print(\"Not Equal:\", result)\n"
   ]
  },
  {
   "cell_type": "code",
   "execution_count": 26,
   "id": "0309032f",
   "metadata": {},
   "outputs": [
    {
     "name": "stdout",
     "output_type": "stream",
     "text": [
      "Greater than: True\n"
     ]
    }
   ],
   "source": [
    "num1 = 10\n",
    "num2 = 7\n",
    "result = num1 > num2\n",
    "print(\"Greater than:\", result)"
   ]
  },
  {
   "cell_type": "code",
   "execution_count": 27,
   "id": "417f4e74",
   "metadata": {},
   "outputs": [
    {
     "name": "stdout",
     "output_type": "stream",
     "text": [
      "Less than: True\n"
     ]
    }
   ],
   "source": [
    "num1 = 4\n",
    "num2 = 6\n",
    "result = num1 < num2\n",
    "print(\"Less than:\", result)"
   ]
  },
  {
   "cell_type": "code",
   "execution_count": 28,
   "id": "4a34713d",
   "metadata": {},
   "outputs": [
    {
     "name": "stdout",
     "output_type": "stream",
     "text": [
      "Greater than or Equal to: True\n"
     ]
    }
   ],
   "source": [
    "num1 = 15\n",
    "num2 = 10\n",
    "result = num1 >= num2\n",
    "print(\"Greater than or Equal to:\", result)"
   ]
  },
  {
   "cell_type": "code",
   "execution_count": 29,
   "id": "d729977e",
   "metadata": {},
   "outputs": [
    {
     "name": "stdout",
     "output_type": "stream",
     "text": [
      "Greater than or Equal to: True\n"
     ]
    }
   ],
   "source": [
    "num1 = 15\n",
    "num2 = 10\n",
    "result = num1 >= num2\n",
    "print(\"Greater than or Equal to:\", result)"
   ]
  },
  {
   "cell_type": "code",
   "execution_count": 32,
   "id": "8a3240f8",
   "metadata": {},
   "outputs": [
    {
     "name": "stdout",
     "output_type": "stream",
     "text": [
      "String Comparison: False\n"
     ]
    }
   ],
   "source": [
    "str1 = \"hello\"\n",
    "str2 = \"world\"\n",
    "result = str1 == str2\n",
    "print(\"String Comparison:\", result)"
   ]
  },
  {
   "cell_type": "code",
   "execution_count": 33,
   "id": "af1d8bcb",
   "metadata": {},
   "outputs": [
    {
     "name": "stdout",
     "output_type": "stream",
     "text": [
      "String Comparison: False\n"
     ]
    }
   ],
   "source": [
    "str1 = \"hello\"\n",
    "str2 = \"world\"\n",
    "result = str1 == str2\n",
    "print(\"String Comparison:\", result)\n"
   ]
  },
  {
   "cell_type": "code",
   "execution_count": 34,
   "id": "e4bd8c6f",
   "metadata": {},
   "outputs": [
    {
     "name": "stdout",
     "output_type": "stream",
     "text": [
      "Membership: True\n"
     ]
    }
   ],
   "source": [
    "element = 5\n",
    "my_list = [3, 5, 7, 9]\n",
    "result = element in my_list\n",
    "print(\"Membership:\", result)"
   ]
  },
  {
   "cell_type": "code",
   "execution_count": 35,
   "id": "b7894ff6",
   "metadata": {},
   "outputs": [
    {
     "name": "stdout",
     "output_type": "stream",
     "text": [
      "Non-Membership: True\n"
     ]
    }
   ],
   "source": [
    "element = 4\n",
    "my_list = [3, 5, 7, 9]\n",
    "result = element not in my_list\n",
    "print(\"Non-Membership:\", result)"
   ]
  },
  {
   "cell_type": "markdown",
   "id": "7ead95bb",
   "metadata": {},
   "source": [
    "# Logical operators"
   ]
  },
  {
   "cell_type": "code",
   "execution_count": 38,
   "id": "2a619378",
   "metadata": {},
   "outputs": [
    {
     "name": "stdout",
     "output_type": "stream",
     "text": [
      "Logical AND: False\n"
     ]
    }
   ],
   "source": [
    "x = True\n",
    "y = False\n",
    "result = x and y\n",
    "print(\"Logical AND:\", result)"
   ]
  },
  {
   "cell_type": "code",
   "execution_count": 39,
   "id": "1d795588",
   "metadata": {},
   "outputs": [
    {
     "name": "stdout",
     "output_type": "stream",
     "text": [
      "Logical OR: True\n"
     ]
    }
   ],
   "source": [
    "x = True\n",
    "y = False\n",
    "result = x or y\n",
    "print(\"Logical OR:\", result)"
   ]
  },
  {
   "cell_type": "code",
   "execution_count": 40,
   "id": "a77419e8",
   "metadata": {},
   "outputs": [
    {
     "name": "stdout",
     "output_type": "stream",
     "text": [
      "Logical NOT: False\n"
     ]
    }
   ],
   "source": [
    "x = True\n",
    "result = not x\n",
    "print(\"Logical NOT:\", result)"
   ]
  },
  {
   "cell_type": "code",
   "execution_count": 41,
   "id": "11d06e58",
   "metadata": {},
   "outputs": [
    {
     "name": "stdout",
     "output_type": "stream",
     "text": [
      "Combined Logical Operators: True\n"
     ]
    }
   ],
   "source": [
    "x = True\n",
    "y = False\n",
    "z = True\n",
    "result = x and y or z\n",
    "print(\"Combined Logical Operators:\", result)"
   ]
  },
  {
   "cell_type": "code",
   "execution_count": 42,
   "id": "93312ea2",
   "metadata": {},
   "outputs": [
    {
     "name": "stdout",
     "output_type": "stream",
     "text": [
      "Short-circuit AND: True\n"
     ]
    }
   ],
   "source": [
    "num = 5\n",
    "result = num > 0 and num < 10\n",
    "print(\"Short-circuit AND:\", result)"
   ]
  },
  {
   "cell_type": "code",
   "execution_count": 43,
   "id": "aaa87720",
   "metadata": {},
   "outputs": [
    {
     "name": "stdout",
     "output_type": "stream",
     "text": [
      "Short-circuit AND: True\n"
     ]
    }
   ],
   "source": [
    "num = 5\n",
    "result = num > 0 and num < 10\n",
    "print(\"Short-circuit AND:\", result)"
   ]
  },
  {
   "cell_type": "code",
   "execution_count": 44,
   "id": "bae17385",
   "metadata": {},
   "outputs": [
    {
     "name": "stdout",
     "output_type": "stream",
     "text": [
      "Complex Logical Expression: True\n"
     ]
    }
   ],
   "source": [
    "x = True\n",
    "y = False\n",
    "z = True\n",
    "result = (x and y) or (not y and z)\n",
    "print(\"Complex Logical Expression:\", result)"
   ]
  },
  {
   "cell_type": "code",
   "execution_count": 45,
   "id": "88bd48fe",
   "metadata": {},
   "outputs": [
    {
     "name": "stdout",
     "output_type": "stream",
     "text": [
      "Logical Operators with Lists: True\n"
     ]
    }
   ],
   "source": [
    "list1 = [1, 2, 3]\n",
    "list2 = [3, 4, 5]\n",
    "result = len(list1) > 2 and len(list2) > 2\n",
    "print(\"Logical Operators with Lists:\", result)"
   ]
  },
  {
   "cell_type": "code",
   "execution_count": 46,
   "id": "34ce32d0",
   "metadata": {},
   "outputs": [
    {
     "name": "stdout",
     "output_type": "stream",
     "text": [
      "Logical Operators with Strings: True\n"
     ]
    }
   ],
   "source": [
    "str1 = \"hello\"\n",
    "str2 = \"world\"\n",
    "result = str1 != str2 or len(str1) < 5\n",
    "print(\"Logical Operators with Strings:\", result)"
   ]
  },
  {
   "cell_type": "code",
   "execution_count": 47,
   "id": "e27ce189",
   "metadata": {},
   "outputs": [
    {
     "name": "stdout",
     "output_type": "stream",
     "text": [
      "Combining Logical and Comparison Operators: True\n"
     ]
    }
   ],
   "source": [
    "num = 8\n",
    "result = (num > 5 and num < 10) or (num == 20)\n",
    "print(\"Combining Logical and Comparison Operators:\", result)"
   ]
  },
  {
   "cell_type": "markdown",
   "id": "75f1e853",
   "metadata": {},
   "source": [
    "# Identity operators"
   ]
  },
  {
   "cell_type": "code",
   "execution_count": 48,
   "id": "1106c1ca",
   "metadata": {},
   "outputs": [
    {
     "name": "stdout",
     "output_type": "stream",
     "text": [
      "Using 'is' operator: True\n"
     ]
    }
   ],
   "source": [
    "x = [1, 2, 3]\n",
    "y = x\n",
    "result = x is y\n",
    "print(\"Using 'is' operator:\", result)"
   ]
  },
  {
   "cell_type": "code",
   "execution_count": 49,
   "id": "44f956f1",
   "metadata": {},
   "outputs": [
    {
     "name": "stdout",
     "output_type": "stream",
     "text": [
      "Using 'is not' operator: True\n"
     ]
    }
   ],
   "source": [
    "x = [1, 2, 3]\n",
    "y = [1, 2, 3]\n",
    "result = x is not y\n",
    "print(\"Using 'is not' operator:\", result)"
   ]
  },
  {
   "cell_type": "code",
   "execution_count": 50,
   "id": "759552d2",
   "metadata": {},
   "outputs": [
    {
     "name": "stdout",
     "output_type": "stream",
     "text": [
      "Comparing with 'is' operator: True\n"
     ]
    }
   ],
   "source": [
    "value = None\n",
    "result = value is None\n",
    "print(\"Comparing with 'is' operator:\", result)"
   ]
  },
  {
   "cell_type": "code",
   "execution_count": 51,
   "id": "aadc9e10",
   "metadata": {},
   "outputs": [
    {
     "name": "stdout",
     "output_type": "stream",
     "text": [
      "Comparing with 'is not' operator: True\n"
     ]
    }
   ],
   "source": [
    "value = 42\n",
    "result = value is not None\n",
    "print(\"Comparing with 'is not' operator:\", result)"
   ]
  },
  {
   "cell_type": "code",
   "execution_count": 52,
   "id": "2a9d70cf",
   "metadata": {},
   "outputs": [
    {
     "name": "stdout",
     "output_type": "stream",
     "text": [
      "Using 'is' with Immutable Types: True\n"
     ]
    }
   ],
   "source": [
    "a = \"hello\"\n",
    "b = \"hello\"\n",
    "result = a is b\n",
    "print(\"Using 'is' with Immutable Types:\", result)"
   ]
  },
  {
   "cell_type": "code",
   "execution_count": 53,
   "id": "3ffccaaf",
   "metadata": {},
   "outputs": [
    {
     "name": "stdout",
     "output_type": "stream",
     "text": [
      "Using 'is not' with Immutable Types: True\n"
     ]
    }
   ],
   "source": [
    "a = \"hello\"\n",
    "b = \"world\"\n",
    "result = a is not b\n",
    "print(\"Using 'is not' with Immutable Types:\", result)"
   ]
  },
  {
   "cell_type": "code",
   "execution_count": 54,
   "id": "c354aa01",
   "metadata": {},
   "outputs": [
    {
     "name": "stdout",
     "output_type": "stream",
     "text": [
      "Using 'is' with Numbers: True\n"
     ]
    }
   ],
   "source": [
    "num1 = 10\n",
    "num2 = 10\n",
    "result = num1 is num2\n",
    "print(\"Using 'is' with Numbers:\", result)"
   ]
  },
  {
   "cell_type": "code",
   "execution_count": 55,
   "id": "68b0c9be",
   "metadata": {},
   "outputs": [
    {
     "name": "stdout",
     "output_type": "stream",
     "text": [
      "Using 'is' with Booleans: True\n"
     ]
    }
   ],
   "source": [
    "bool1 = True\n",
    "bool2 = True\n",
    "result = bool1 is bool2\n",
    "print(\"Using 'is' with Booleans:\", result)"
   ]
  },
  {
   "cell_type": "code",
   "execution_count": 56,
   "id": "17c1eb1c",
   "metadata": {},
   "outputs": [
    {
     "name": "stdout",
     "output_type": "stream",
     "text": [
      "Using 'is not' with Booleans: True\n"
     ]
    }
   ],
   "source": [
    "bool1 = False\n",
    "bool2 = True\n",
    "result = bool1 is not bool2\n",
    "print(\"Using 'is not' with Booleans:\", result)"
   ]
  },
  {
   "cell_type": "markdown",
   "id": "64b9b402",
   "metadata": {},
   "source": [
    "# Membership operators"
   ]
  },
  {
   "cell_type": "code",
   "execution_count": 57,
   "id": "7ecf1b56",
   "metadata": {},
   "outputs": [
    {
     "name": "stdout",
     "output_type": "stream",
     "text": [
      "Using 'in' operator with Lists: True\n"
     ]
    }
   ],
   "source": [
    "my_list = [1, 2, 3, 4, 5]\n",
    "element = 3\n",
    "result = element in my_list\n",
    "print(\"Using 'in' operator with Lists:\", result)"
   ]
  },
  {
   "cell_type": "code",
   "execution_count": 58,
   "id": "08041ca6",
   "metadata": {},
   "outputs": [
    {
     "name": "stdout",
     "output_type": "stream",
     "text": [
      "Using 'not in' operator with Lists: True\n"
     ]
    }
   ],
   "source": [
    "my_list = [1, 2, 3, 4, 5]\n",
    "element = 6\n",
    "result = element not in my_list\n",
    "print(\"Using 'not in' operator with Lists:\", result)"
   ]
  },
  {
   "cell_type": "code",
   "execution_count": 59,
   "id": "c4a89bae",
   "metadata": {},
   "outputs": [
    {
     "name": "stdout",
     "output_type": "stream",
     "text": [
      "Using 'in' operator with Strings: True\n"
     ]
    }
   ],
   "source": [
    "my_string = \"hello\"\n",
    "char = \"e\"\n",
    "result = char in my_string\n",
    "print(\"Using 'in' operator with Strings:\", result)"
   ]
  },
  {
   "cell_type": "code",
   "execution_count": 60,
   "id": "1991c13c",
   "metadata": {},
   "outputs": [
    {
     "name": "stdout",
     "output_type": "stream",
     "text": [
      "Using 'not in' operator with Strings: True\n"
     ]
    }
   ],
   "source": [
    "my_string = \"hello\"\n",
    "char = \"z\"\n",
    "result = char not in my_string\n",
    "print(\"Using 'not in' operator with Strings:\", result)"
   ]
  },
  {
   "cell_type": "code",
   "execution_count": 61,
   "id": "4b1989e9",
   "metadata": {},
   "outputs": [
    {
     "name": "stdout",
     "output_type": "stream",
     "text": [
      "Using 'in' operator with Sets: True\n"
     ]
    }
   ],
   "source": [
    "my_set = {1, 2, 3, 4, 5}\n",
    "element = 3\n",
    "result = element in my_set\n",
    "print(\"Using 'in' operator with Sets:\", result)"
   ]
  },
  {
   "cell_type": "code",
   "execution_count": 62,
   "id": "64a97c9f",
   "metadata": {},
   "outputs": [
    {
     "name": "stdout",
     "output_type": "stream",
     "text": [
      "Using 'not in' operator with Sets: True\n"
     ]
    }
   ],
   "source": [
    "my_set = {1, 2, 3, 4, 5}\n",
    "element = 6\n",
    "result = element not in my_set\n",
    "print(\"Using 'not in' operator with Sets:\", result)"
   ]
  },
  {
   "cell_type": "code",
   "execution_count": 63,
   "id": "7eaaffcd",
   "metadata": {},
   "outputs": [
    {
     "name": "stdout",
     "output_type": "stream",
     "text": [
      "Using 'in' operator with Dictionaries (Checking Keys): True\n"
     ]
    }
   ],
   "source": [
    "my_dict = {'a': 1, 'b': 2, 'c': 3}\n",
    "key = 'b'\n",
    "result = key in my_dict\n",
    "print(\"Using 'in' operator with Dictionaries (Checking Keys):\", result)"
   ]
  },
  {
   "cell_type": "code",
   "execution_count": 64,
   "id": "8767ae3e",
   "metadata": {},
   "outputs": [
    {
     "name": "stdout",
     "output_type": "stream",
     "text": [
      "Using 'not in' operator with Dictionaries (Checking Keys): True\n"
     ]
    }
   ],
   "source": [
    "my_dict = {'a': 1, 'b': 2, 'c': 3}\n",
    "key = 'd'\n",
    "result = key not in my_dict\n",
    "print(\"Using 'not in' operator with Dictionaries (Checking Keys):\", result)"
   ]
  },
  {
   "cell_type": "code",
   "execution_count": 65,
   "id": "610a1e8e",
   "metadata": {},
   "outputs": [
    {
     "name": "stdout",
     "output_type": "stream",
     "text": [
      "Using 'in' operator with Dictionaries (Checking Values): True\n"
     ]
    }
   ],
   "source": [
    "my_dict = {'a': 1, 'b': 2, 'c': 3}\n",
    "value = 2\n",
    "result = value in my_dict.values()\n",
    "print(\"Using 'in' operator with Dictionaries (Checking Values):\", result)"
   ]
  },
  {
   "cell_type": "code",
   "execution_count": 66,
   "id": "1d239cd2",
   "metadata": {},
   "outputs": [
    {
     "name": "stdout",
     "output_type": "stream",
     "text": [
      "Using 'not in' operator with Dictionaries (Checking Values): True\n"
     ]
    }
   ],
   "source": [
    "my_dict = {'a': 1, 'b': 2, 'c': 3}\n",
    "value = 4\n",
    "result = value not in my_dict.values()\n",
    "print(\"Using 'not in' operator with Dictionaries (Checking Values):\", result)"
   ]
  },
  {
   "cell_type": "markdown",
   "id": "32342a69",
   "metadata": {},
   "source": [
    "# Bitwise operators"
   ]
  },
  {
   "cell_type": "markdown",
   "id": "89283311",
   "metadata": {},
   "source": [
    "When working with binary numbers, we use the `bin()` function to represent them in binary (base-2) form in Python. When you use the `bin()` function to represent a number in binary, Python prefixes the number with \"0b\" to indicate that it's a binary number.\n",
    "\n",
    "In your program:\n",
    "```python\n",
    "num1 = 0b1010\n",
    "num2 = 0b1100\n",
    "result = num1 & num2\n",
    "print(\"Bitwise AND:\", bin(result))\n",
    "```\n",
    "\n",
    "Here, the value of `num1` is `0b1010`, which in binary representation is `10`, and the value of `num2` is `0b1100`, which in binary is `12`. When you use the bitwise operator `&` between `num1` and `num2`, it performs a bitwise AND operation, resulting in the binary representation `0b1000`, which is `8` in decimal.\n",
    "\n",
    "Using `bin(result)` allows us to display the appropriate binary representation when printing, so we can see how the bitwise AND operation has been applied to the two numbers."
   ]
  },
  {
   "cell_type": "code",
   "execution_count": 72,
   "id": "5542a614",
   "metadata": {},
   "outputs": [
    {
     "name": "stdout",
     "output_type": "stream",
     "text": [
      "Bitwise AND: 0b1000\n"
     ]
    }
   ],
   "source": [
    "num1 = 0b1010\n",
    "num2 = 0b1100\n",
    "result = num1 & num2\n",
    "print(\"Bitwise AND:\",bin(result))"
   ]
  },
  {
   "cell_type": "code",
   "execution_count": 73,
   "id": "a3d3e125",
   "metadata": {},
   "outputs": [
    {
     "name": "stdout",
     "output_type": "stream",
     "text": [
      "Bitwise OR: 0b1110\n"
     ]
    }
   ],
   "source": [
    "num1 = 0b1010\n",
    "num2 = 0b1100\n",
    "result = num1 | num2\n",
    "print(\"Bitwise OR:\",bin(result))"
   ]
  },
  {
   "cell_type": "code",
   "execution_count": 74,
   "id": "eacb46b6",
   "metadata": {},
   "outputs": [
    {
     "name": "stdout",
     "output_type": "stream",
     "text": [
      "Bitwise XOR: 0b110\n"
     ]
    }
   ],
   "source": [
    "num1 = 0b1010\n",
    "num2 = 0b1100\n",
    "result = num1 ^ num2\n",
    "print(\"Bitwise XOR:\", bin(result))"
   ]
  },
  {
   "cell_type": "code",
   "execution_count": 75,
   "id": "9f2ff55d",
   "metadata": {},
   "outputs": [
    {
     "name": "stdout",
     "output_type": "stream",
     "text": [
      "Bitwise NOT: -0b1011\n"
     ]
    }
   ],
   "source": [
    "num = 0b1010\n",
    "result = ~num\n",
    "print(\"Bitwise NOT:\", bin(result))"
   ]
  },
  {
   "cell_type": "code",
   "execution_count": 76,
   "id": "a11b498c",
   "metadata": {},
   "outputs": [
    {
     "name": "stdout",
     "output_type": "stream",
     "text": [
      "Left Shift: 0b101000\n"
     ]
    }
   ],
   "source": [
    "num = 0b1010\n",
    "shift_amount = 2\n",
    "result = num << shift_amount\n",
    "print(\"Left Shift:\", bin(result))"
   ]
  },
  {
   "cell_type": "code",
   "execution_count": 77,
   "id": "35847d7f",
   "metadata": {},
   "outputs": [
    {
     "name": "stdout",
     "output_type": "stream",
     "text": [
      "Right Shift: 0b10\n"
     ]
    }
   ],
   "source": [
    "num = 0b1010\n",
    "shift_amount = 2\n",
    "result = num >> shift_amount\n",
    "print(\"Right Shift:\", bin(result))"
   ]
  },
  {
   "cell_type": "code",
   "execution_count": 78,
   "id": "4fd701c4",
   "metadata": {},
   "outputs": [
    {
     "name": "stdout",
     "output_type": "stream",
     "text": [
      "Toggle a Bit: 0b1000\n"
     ]
    }
   ],
   "source": [
    "num = 0b1010\n",
    "bit_position = 1\n",
    "result = num ^ (1 << bit_position)\n",
    "print(\"Toggle a Bit:\", bin(result))"
   ]
  },
  {
   "cell_type": "code",
   "execution_count": 79,
   "id": "992dc9f5",
   "metadata": {},
   "outputs": [
    {
     "name": "stdout",
     "output_type": "stream",
     "text": [
      "Toggle a Bit: 0b1000\n"
     ]
    }
   ],
   "source": [
    "num = 0b1010\n",
    "bit_position = 1\n",
    "result = num ^ (1 << bit_position)\n",
    "print(\"Toggle a Bit:\", bin(result))"
   ]
  },
  {
   "cell_type": "code",
   "execution_count": 80,
   "id": "813d8779",
   "metadata": {},
   "outputs": [
    {
     "name": "stdout",
     "output_type": "stream",
     "text": [
      "Clear a Bit: 0b1000\n"
     ]
    }
   ],
   "source": [
    "num = 0b1010\n",
    "bit_position = 1\n",
    "result = num & ~(1 << bit_position)\n",
    "print(\"Clear a Bit:\", bin(result))"
   ]
  },
  {
   "cell_type": "code",
   "execution_count": 81,
   "id": "b72cb22c",
   "metadata": {},
   "outputs": [
    {
     "name": "stdout",
     "output_type": "stream",
     "text": [
      "Check if a Bit is Set: True\n"
     ]
    }
   ],
   "source": [
    "num = 0b1010\n",
    "bit_position = 1\n",
    "bit_is_set = (num & (1 << bit_position)) != 0\n",
    "print(\"Check if a Bit is Set:\", bit_is_set)"
   ]
  },
  {
   "cell_type": "markdown",
   "id": "a2920f75",
   "metadata": {},
   "source": [
    "# Data Types"
   ]
  },
  {
   "cell_type": "markdown",
   "id": "bd27353e",
   "metadata": {},
   "source": [
    "# 1 String"
   ]
  },
  {
   "cell_type": "markdown",
   "id": "d627e681",
   "metadata": {},
   "source": [
    "Strings in python are surrounded by either single quotation marks, or double quotation marks.\n",
    "\n",
    "'hello' is the same as \"hello\"."
   ]
  },
  {
   "cell_type": "raw",
   "id": "a67f080b",
   "metadata": {},
   "source": [
    "Method:capitalize()"
   ]
  },
  {
   "cell_type": "code",
   "execution_count": 82,
   "id": "fc860d91",
   "metadata": {},
   "outputs": [
    {
     "name": "stdout",
     "output_type": "stream",
     "text": [
      "Hello, world!\n"
     ]
    }
   ],
   "source": [
    "sentence = \"hello, world!\"\n",
    "capitalized_sentence = sentence.capitalize()\n",
    "print(capitalized_sentence)"
   ]
  },
  {
   "cell_type": "code",
   "execution_count": 83,
   "id": "6be05f96",
   "metadata": {},
   "outputs": [
    {
     "name": "stdout",
     "output_type": "stream",
     "text": [
      "Python\n"
     ]
    }
   ],
   "source": [
    "word = \"PYTHON\"\n",
    "capitalized_word = word.capitalize()\n",
    "print(capitalized_word)"
   ]
  },
  {
   "cell_type": "code",
   "execution_count": 84,
   "id": "dd4541d5",
   "metadata": {},
   "outputs": [
    {
     "name": "stdout",
     "output_type": "stream",
     "text": [
      "Hello to the python world\n"
     ]
    }
   ],
   "source": [
    "phrase = \"hello to the python world\"\n",
    "capitalized_phrase = phrase.capitalize()\n",
    "print(capitalized_phrase)"
   ]
  },
  {
   "cell_type": "code",
   "execution_count": 85,
   "id": "f0efc738",
   "metadata": {},
   "outputs": [
    {
     "name": "stdout",
     "output_type": "stream",
     "text": [
      "Version 2.0\n"
     ]
    }
   ],
   "source": [
    "text = \"version 2.0\"\n",
    "capitalized_text = text.capitalize()\n",
    "print(capitalized_text)"
   ]
  },
  {
   "cell_type": "code",
   "execution_count": 86,
   "id": "2d231140",
   "metadata": {},
   "outputs": [
    {
     "name": "stdout",
     "output_type": "stream",
     "text": [
      "!important task\n"
     ]
    }
   ],
   "source": [
    "input_str = \"!important task\"\n",
    "capitalized_str = input_str.capitalize()\n",
    "print(capitalized_str)"
   ]
  },
  {
   "cell_type": "markdown",
   "id": "f74bd3b8",
   "metadata": {},
   "source": [
    "method:casefold()"
   ]
  },
  {
   "cell_type": "code",
   "execution_count": 87,
   "id": "2b96a17c",
   "metadata": {},
   "outputs": [
    {
     "name": "stdout",
     "output_type": "stream",
     "text": [
      "True\n"
     ]
    }
   ],
   "source": [
    "string1 = \"Hello\"\n",
    "string2 = \"hello\"\n",
    "result = string1.casefold() == string2.casefold()\n",
    "print(result)"
   ]
  },
  {
   "cell_type": "code",
   "execution_count": 88,
   "id": "83d6ae33",
   "metadata": {},
   "outputs": [
    {
     "name": "stdout",
     "output_type": "stream",
     "text": [
      "résumé\n"
     ]
    }
   ],
   "source": [
    "accented = \"résumé\"\n",
    "casefolded = accented.casefold()\n",
    "print(casefolded)"
   ]
  },
  {
   "cell_type": "code",
   "execution_count": 89,
   "id": "70cb85c7",
   "metadata": {},
   "outputs": [
    {
     "name": "stdout",
     "output_type": "stream",
     "text": [
      "False\n"
     ]
    }
   ],
   "source": [
    "input_str = \"Welcome to Pythön!\"\n",
    "search_str = \"python\"\n",
    "result = search_str.casefold() in input_str.casefold()\n",
    "print(result)"
   ]
  },
  {
   "cell_type": "code",
   "execution_count": 90,
   "id": "a7fa979a",
   "metadata": {},
   "outputs": [
    {
     "name": "stdout",
     "output_type": "stream",
     "text": [
      "False\n"
     ]
    }
   ],
   "source": [
    "nfc_string = \"café\"\n",
    "nfd_string = \"cafe\\u0301\"\n",
    "result = nfc_string.casefold() == nfd_string.casefold()\n",
    "print(result)"
   ]
  },
  {
   "cell_type": "code",
   "execution_count": 91,
   "id": "5d9f2849",
   "metadata": {},
   "outputs": [
    {
     "name": "stdout",
     "output_type": "stream",
     "text": [
      "['strasse', 'strasse']\n"
     ]
    }
   ],
   "source": [
    "german_words = [\"straße\", \"strasse\"]\n",
    "normalized_words = [word.casefold() for word in german_words]\n",
    "print(normalized_words)"
   ]
  },
  {
   "cell_type": "markdown",
   "id": "b459a22d",
   "metadata": {},
   "source": [
    "Method:center()"
   ]
  },
  {
   "cell_type": "code",
   "execution_count": 92,
   "id": "40fd8f37",
   "metadata": {},
   "outputs": [
    {
     "name": "stdout",
     "output_type": "stream",
     "text": [
      "  Hello   \n"
     ]
    }
   ],
   "source": [
    "text = \"Hello\"\n",
    "centered_text = text.center(10)\n",
    "print(centered_text)"
   ]
  },
  {
   "cell_type": "code",
   "execution_count": 93,
   "id": "e78baf1e",
   "metadata": {},
   "outputs": [
    {
     "name": "stdout",
     "output_type": "stream",
     "text": [
      "*****Python****\n"
     ]
    }
   ],
   "source": [
    "word = \"Python\"\n",
    "centered_word = word.center(15, \"*\")\n",
    "print(centered_word)"
   ]
  },
  {
   "cell_type": "code",
   "execution_count": 94,
   "id": "7f5f5d7a",
   "metadata": {},
   "outputs": [
    {
     "name": "stdout",
     "output_type": "stream",
     "text": [
      "******************************\n",
      "      Important Message       \n",
      "******************************\n"
     ]
    }
   ],
   "source": [
    "message = \"Important Message\"\n",
    "border = \"*\" * 30\n",
    "centered_message = message.center(len(border))\n",
    "decorated_message = f\"{border}\\n{centered_message}\\n{border}\"\n",
    "print(decorated_message)"
   ]
  },
  {
   "cell_type": "code",
   "execution_count": 95,
   "id": "fe9fd495",
   "metadata": {},
   "outputs": [
    {
     "name": "stdout",
     "output_type": "stream",
     "text": [
      "1 22 333 4444 555550\n"
     ]
    }
   ],
   "source": [
    "numbers = \"1 22 333 4444 55555\"\n",
    "centered_numbers = numbers.center(20, \"0\")\n",
    "print(centered_numbers)"
   ]
  },
  {
   "cell_type": "code",
   "execution_count": 96,
   "id": "97765170",
   "metadata": {},
   "outputs": [
    {
     "name": "stdout",
     "output_type": "stream",
     "text": [
      "        Chapter 1: Introduction         \n"
     ]
    }
   ],
   "source": [
    "title = \"Chapter 1: Introduction\"\n",
    "page_width = 40\n",
    "centered_title = title.center(page_width)\n",
    "print(centered_title)"
   ]
  },
  {
   "cell_type": "markdown",
   "id": "8cfe5328",
   "metadata": {},
   "source": [
    "Method:count()"
   ]
  },
  {
   "cell_type": "code",
   "execution_count": 97,
   "id": "578ab688",
   "metadata": {},
   "outputs": [
    {
     "name": "stdout",
     "output_type": "stream",
     "text": [
      "'programming' occurs 2 times.\n"
     ]
    }
   ],
   "source": [
    "text = \"programming is fun, programming is creative\"\n",
    "substring = \"programming\"\n",
    "count = text.count(substring)\n",
    "print(f\"'{substring}' occurs {count} times.\")"
   ]
  },
  {
   "cell_type": "code",
   "execution_count": 98,
   "id": "7ce14f2c",
   "metadata": {},
   "outputs": [
    {
     "name": "stdout",
     "output_type": "stream",
     "text": [
      "'o' occurs 4 times.\n"
     ]
    }
   ],
   "source": [
    "sentence = \"The quick brown fox jumps over the lazy dog\"\n",
    "character = \"o\"\n",
    "count = sentence.count(character)\n",
    "print(f\"'{character}' occurs {count} times.\")"
   ]
  },
  {
   "cell_type": "code",
   "execution_count": 99,
   "id": "0c0cfc71",
   "metadata": {},
   "outputs": [
    {
     "name": "stdout",
     "output_type": "stream",
     "text": [
      "'python' (case-insensitive) occurs 2 times.\n"
     ]
    }
   ],
   "source": [
    "text = \"Python is a programming language, python is versatile.\"\n",
    "substring = \"python\"\n",
    "count = text.lower().count(substring)\n",
    "print(f\"'{substring}' (case-insensitive) occurs {count} times.\")"
   ]
  },
  {
   "cell_type": "code",
   "execution_count": 100,
   "id": "5b4776a5",
   "metadata": {},
   "outputs": [
    {
     "name": "stdout",
     "output_type": "stream",
     "text": [
      "'ana' occurs 1 times (overlapping).\n"
     ]
    }
   ],
   "source": [
    "word = \"banana\"\n",
    "substring = \"ana\"\n",
    "count = word.count(substring)\n",
    "print(f\"'{substring}' occurs {count} times (overlapping).\")"
   ]
  },
  {
   "cell_type": "code",
   "execution_count": 101,
   "id": "8f68ebae",
   "metadata": {},
   "outputs": [
    {
     "name": "stdout",
     "output_type": "stream",
     "text": [
      "'How' occurs 1 times within the specified range.\n"
     ]
    }
   ],
   "source": [
    "text = \"Hello, how are you? How's everything going?\"\n",
    "substring = \"How\"\n",
    "start_index = 10\n",
    "end_index = 35\n",
    "count = text.count(substring, start_index, end_index)\n",
    "print(f\"'{substring}' occurs {count} times within the specified range.\")"
   ]
  },
  {
   "cell_type": "markdown",
   "id": "bdef8bdc",
   "metadata": {},
   "source": [
    "Method:encode()"
   ]
  },
  {
   "cell_type": "markdown",
   "id": "fbb57279",
   "metadata": {},
   "source": [
    "In your program, the output `b'Hello, !'` appears because when you use the `encode()` method, it returns a bytes object that represents the string encoded in a specific format. The `b` prefix indicates that the output is a bytes object representing the binary data of the encoded string. This is a common representation for binary data in Python."
   ]
  },
  {
   "cell_type": "code",
   "execution_count": 102,
   "id": "30d5e4b1",
   "metadata": {},
   "outputs": [
    {
     "name": "stdout",
     "output_type": "stream",
     "text": [
      "b'Hello, world!'\n"
     ]
    }
   ],
   "source": [
    "text = \"Hello, world!\"\n",
    "encoded_text = text.encode()\n",
    "print(encoded_text)"
   ]
  },
  {
   "cell_type": "code",
   "execution_count": 103,
   "id": "f57af988",
   "metadata": {},
   "outputs": [
    {
     "name": "stdout",
     "output_type": "stream",
     "text": [
      "b'Hello, world!'\n"
     ]
    }
   ],
   "source": [
    "text = \"Hello, world!\"\n",
    "encoded_text = text.encode(\"ascii\")\n",
    "print(encoded_text)"
   ]
  },
  {
   "cell_type": "code",
   "execution_count": 104,
   "id": "304013f7",
   "metadata": {},
   "outputs": [
    {
     "name": "stdout",
     "output_type": "stream",
     "text": [
      "Encoding failed due to non-ASCII characters.\n"
     ]
    }
   ],
   "source": [
    "text = \"Hello, 世界!\"\n",
    "try:\n",
    "    encoded_text = text.encode(\"ascii\")\n",
    "    print(encoded_text)\n",
    "except UnicodeEncodeError:\n",
    "    print(\"Encoding failed due to non-ASCII characters.\")"
   ]
  },
  {
   "cell_type": "code",
   "execution_count": 105,
   "id": "631681bd",
   "metadata": {},
   "outputs": [
    {
     "name": "stdout",
     "output_type": "stream",
     "text": [
      "50 79 74 68 6F 6E E7 BC 96 E7 A8 8B\n"
     ]
    }
   ],
   "source": [
    "text = \"Python编程\"\n",
    "encoded_text = text.encode(\"utf-8\")\n",
    "encoded_bytes = \" \".join([f\"{byte:02X}\" for byte in encoded_text])\n",
    "print(encoded_bytes)"
   ]
  },
  {
   "cell_type": "code",
   "execution_count": 106,
   "id": "335ebdf0",
   "metadata": {},
   "outputs": [
    {
     "name": "stdout",
     "output_type": "stream",
     "text": [
      "b'Hello, !'\n"
     ]
    }
   ],
   "source": [
    "text = \"Hello, 世界!\"\n",
    "encoded_text = text.encode(\"ascii\", errors=\"ignore\")\n",
    "print(encoded_text)"
   ]
  },
  {
   "cell_type": "markdown",
   "id": "74be84d0",
   "metadata": {},
   "source": [
    "Method:endswith()"
   ]
  },
  {
   "cell_type": "code",
   "execution_count": 107,
   "id": "5d9528cb",
   "metadata": {},
   "outputs": [
    {
     "name": "stdout",
     "output_type": "stream",
     "text": [
      "True\n"
     ]
    }
   ],
   "source": [
    "text = \"Hello, world!\"\n",
    "result = text.endswith(\"world!\")\n",
    "print(result)"
   ]
  },
  {
   "cell_type": "code",
   "execution_count": 108,
   "id": "22c670c7",
   "metadata": {},
   "outputs": [
    {
     "name": "stdout",
     "output_type": "stream",
     "text": [
      "True\n"
     ]
    }
   ],
   "source": [
    "filename = \"document.txt\"\n",
    "result = filename.endswith((\".txt\", \".docx\"))\n",
    "print(result)"
   ]
  },
  {
   "cell_type": "code",
   "execution_count": 118,
   "id": "b6a426e8",
   "metadata": {},
   "outputs": [
    {
     "name": "stdout",
     "output_type": "stream",
     "text": [
      "False\n"
     ]
    }
   ],
   "source": [
    "text = \"Python Programming\"\n",
    "result = text.endswith(\"programming\",0,-1)\n",
    "print(result)"
   ]
  },
  {
   "cell_type": "code",
   "execution_count": 119,
   "id": "0adc2ba8",
   "metadata": {},
   "outputs": [
    {
     "name": "stdout",
     "output_type": "stream",
     "text": [
      "True\n"
     ]
    }
   ],
   "source": [
    "message = \"Important announcement\"\n",
    "substrings = (\"announcement\", \"update\")\n",
    "result = message.endswith(substrings)\n",
    "print(result)"
   ]
  },
  {
   "cell_type": "markdown",
   "id": "532edfee",
   "metadata": {},
   "source": [
    "This program checks if every line in the given poem ends with a comma. It first splits the poem into lines using the newline character (`'\\n'`). Then, using a list comprehension and the `endswith()` method, it checks if each line ends with a comma. The `all()` function is used to verify that this condition holds true for all lines. The final result is a boolean value indicating whether every line in the poem ends with a comma or not."
   ]
  },
  {
   "cell_type": "code",
   "execution_count": 120,
   "id": "5292e72a",
   "metadata": {},
   "outputs": [
    {
     "name": "stdout",
     "output_type": "stream",
     "text": [
      "False\n"
     ]
    }
   ],
   "source": [
    "poem = \"\"\"\\\n",
    "Roses are red,\n",
    "Violets are blue,\n",
    "Sugar is sweet,\n",
    "And so are you.\"\"\"\n",
    "lines = poem.split('\\n')\n",
    "result = all(line.endswith(\",\") for line in lines)\n",
    "print(result)"
   ]
  },
  {
   "cell_type": "markdown",
   "id": "95976726",
   "metadata": {},
   "source": [
    "Method:expandtabs()"
   ]
  },
  {
   "cell_type": "markdown",
   "id": "70e9208f",
   "metadata": {},
   "source": [
    "The expandtabs() method is used to replace tab characters (\\t) in a string with spaces. You can specify the width of the tab stops as an argument. If no width is provided, the default tab width is 8 spaces."
   ]
  },
  {
   "cell_type": "code",
   "execution_count": 121,
   "id": "7684fbbe",
   "metadata": {},
   "outputs": [
    {
     "name": "stdout",
     "output_type": "stream",
     "text": [
      "Hello   world!\n"
     ]
    }
   ],
   "source": [
    "text = \"Hello\\tworld!\"\n",
    "expanded_text = text.expandtabs()\n",
    "print(expanded_text)"
   ]
  },
  {
   "cell_type": "code",
   "execution_count": 126,
   "id": "2a11d99e",
   "metadata": {},
   "outputs": [
    {
     "name": "stdout",
     "output_type": "stream",
     "text": [
      "Python  is      awesome\n"
     ]
    }
   ],
   "source": [
    "text = \"Python\\tis\\tawesome\"\n",
    "tab_width = 8\n",
    "expanded_text = text.expandtabs(tab_width)\n",
    "print(expanded_text)"
   ]
  },
  {
   "cell_type": "code",
   "execution_count": 127,
   "id": "26f6b14c",
   "metadata": {},
   "outputs": [
    {
     "name": "stdout",
     "output_type": "stream",
     "text": [
      "Name                    Age         City\n",
      "John                    25          New York\n",
      "Alice                   30          Los Angeles\n"
     ]
    }
   ],
   "source": [
    "table = \"Name\\t\\tAge\\tCity\\nJohn\\t\\t25\\tNew York\\nAlice\\t\\t30\\tLos Angeles\"\n",
    "expanded_table = table.expandtabs(12)\n",
    "print(expanded_table)"
   ]
  },
  {
   "cell_type": "code",
   "execution_count": 128,
   "id": "5bc524e2",
   "metadata": {},
   "outputs": [
    {
     "name": "stdout",
     "output_type": "stream",
     "text": [
      "Tab     Space1       Space2\n"
     ]
    }
   ],
   "source": [
    "text = \"Tab\\tSpace1       Space2\"\n",
    "expanded_text = text.expandtabs(8)\n",
    "print(expanded_text)"
   ]
  },
  {
   "cell_type": "code",
   "execution_count": 129,
   "id": "49e12c35",
   "metadata": {},
   "outputs": [
    {
     "name": "stdout",
     "output_type": "stream",
     "text": [
      "def hello():\n",
      "    print('Hello, world!')\n",
      "    print('Welcome to Python')\n"
     ]
    }
   ],
   "source": [
    "code = \"def hello():\\n\\tprint('Hello, world!')\\n\\tprint('Welcome to Python')\"\n",
    "expanded_code = code.expandtabs(4)\n",
    "print(expanded_code)"
   ]
  },
  {
   "cell_type": "markdown",
   "id": "cf0c41c8",
   "metadata": {},
   "source": [
    "Method:find()"
   ]
  },
  {
   "cell_type": "markdown",
   "id": "e746387d",
   "metadata": {},
   "source": [
    "The find() method is used to find the index of a specified substring within a string. It returns the index of the first occurrence of the substring, or -1 if the substring is not found. You can also provide start and end indices to limit the search within a portion of the string."
   ]
  },
  {
   "cell_type": "code",
   "execution_count": 130,
   "id": "a6595e2d",
   "metadata": {},
   "outputs": [
    {
     "name": "stdout",
     "output_type": "stream",
     "text": [
      "Index of 'world': 7\n"
     ]
    }
   ],
   "source": [
    "text = \"Hello, world!\"\n",
    "substring = \"world\"\n",
    "index = text.find(substring)\n",
    "print(\"Index of 'world':\", index)"
   ]
  },
  {
   "cell_type": "code",
   "execution_count": 131,
   "id": "ac3fd4b6",
   "metadata": {},
   "outputs": [
    {
     "name": "stdout",
     "output_type": "stream",
     "text": [
      "Index of 'programming': 7\n"
     ]
    }
   ],
   "source": [
    "text = \"Python programming is fun!\"\n",
    "substring = \"programming\"\n",
    "start_index = 7\n",
    "end_index = 20\n",
    "index = text.find(substring, start_index, end_index)\n",
    "print(\"Index of 'programming':\", index)"
   ]
  },
  {
   "cell_type": "code",
   "execution_count": 132,
   "id": "62048582",
   "metadata": {},
   "outputs": [
    {
     "name": "stdout",
     "output_type": "stream",
     "text": [
      "Index of first vowel: -1\n"
     ]
    }
   ],
   "source": [
    "text = \"Python\"\n",
    "characters = \"aeiou\"\n",
    "index = text.find(characters)\n",
    "print(\"Index of first vowel:\", index)"
   ]
  },
  {
   "cell_type": "code",
   "execution_count": 133,
   "id": "2e1994ec",
   "metadata": {},
   "outputs": [
    {
     "name": "stdout",
     "output_type": "stream",
     "text": [
      "Index of 'programming': -1\n"
     ]
    }
   ],
   "source": [
    "text = \"Python programming is amazing!\"\n",
    "substring = \"programming\"\n",
    "index = text.find(substring, -10)\n",
    "print(\"Index of 'programming':\", index)"
   ]
  },
  {
   "cell_type": "code",
   "execution_count": 134,
   "id": "9f250b34",
   "metadata": {},
   "outputs": [
    {
     "name": "stdout",
     "output_type": "stream",
     "text": [
      "Index of 'Python' after 15th index: 35\n"
     ]
    }
   ],
   "source": [
    "text = \"Python programming is creative and Python is fun!\"\n",
    "substring = \"Python\"\n",
    "start_index = 15\n",
    "index = text.find(substring, start_index)\n",
    "print(\"Index of 'Python' after 15th index:\", index)"
   ]
  },
  {
   "cell_type": "markdown",
   "id": "851cd8aa",
   "metadata": {},
   "source": [
    "Method:format()"
   ]
  },
  {
   "cell_type": "markdown",
   "id": "33ded3f6",
   "metadata": {},
   "source": [
    "The format() method is used to format strings by replacing placeholders {} with corresponding values. You can use positional arguments, keyword arguments, and format specifiers to customize the output formatting."
   ]
  },
  {
   "cell_type": "code",
   "execution_count": 135,
   "id": "306eeed9",
   "metadata": {},
   "outputs": [
    {
     "name": "stdout",
     "output_type": "stream",
     "text": [
      "Name: Alice, Age: 30\n"
     ]
    }
   ],
   "source": [
    "name = \"Alice\"\n",
    "age = 30\n",
    "info = \"Name: {}, Age: {}\".format(name, age)\n",
    "print(info)"
   ]
  },
  {
   "cell_type": "code",
   "execution_count": 136,
   "id": "53816fb3",
   "metadata": {},
   "outputs": [
    {
     "name": "stdout",
     "output_type": "stream",
     "text": [
      "The price of apple is $0.5\n"
     ]
    }
   ],
   "source": [
    "item = \"apple\"\n",
    "price = 0.5\n",
    "description = \"The price of {} is ${}\".format(item, price)\n",
    "print(description)"
   ]
  },
  {
   "cell_type": "code",
   "execution_count": 137,
   "id": "7da90d00",
   "metadata": {},
   "outputs": [
    {
     "name": "stdout",
     "output_type": "stream",
     "text": [
      "Product: laptop, Price: $1000\n"
     ]
    }
   ],
   "source": [
    "product = \"laptop\"\n",
    "price = 1000\n",
    "details = \"Product: {product}, Price: ${price}\".format(product=product, price=price)\n",
    "print(details)"
   ]
  },
  {
   "cell_type": "code",
   "execution_count": 138,
   "id": "b164a607",
   "metadata": {},
   "outputs": [
    {
     "name": "stdout",
     "output_type": "stream",
     "text": [
      "Value: 123.46\n"
     ]
    }
   ],
   "source": [
    "value = 123.456789\n",
    "formatted_value = \"Value: {:.2f}\".format(value)\n",
    "print(formatted_value)"
   ]
  },
  {
   "cell_type": "code",
   "execution_count": 139,
   "id": "1698214a",
   "metadata": {},
   "outputs": [
    {
     "name": "stdout",
     "output_type": "stream",
     "text": [
      "Name: John, Age: 25\n"
     ]
    }
   ],
   "source": [
    "name = \"John\"\n",
    "age = 25\n",
    "message = \"Name: {}, Age: {age}\".format(name, age=age)\n",
    "print(message)"
   ]
  },
  {
   "cell_type": "markdown",
   "id": "149ecfb1",
   "metadata": {},
   "source": [
    "Method:format_map()"
   ]
  },
  {
   "cell_type": "markdown",
   "id": "e296f516",
   "metadata": {},
   "source": [
    "The format_map() method is used to format strings by replacing placeholders {} with values from a mapping (like a dictionary). It's particularly useful when you have a dictionary-like object to provide the values for formatting."
   ]
  },
  {
   "cell_type": "code",
   "execution_count": 140,
   "id": "612928fb",
   "metadata": {},
   "outputs": [
    {
     "name": "stdout",
     "output_type": "stream",
     "text": [
      "Name: Alice, Age: 30\n"
     ]
    }
   ],
   "source": [
    "data = {'name': 'Alice', 'age': 30}\n",
    "info = \"Name: {name}, Age: {age}\".format_map(data)\n",
    "print(info)"
   ]
  },
  {
   "cell_type": "code",
   "execution_count": 141,
   "id": "3fb12c99",
   "metadata": {},
   "outputs": [
    {
     "name": "stdout",
     "output_type": "stream",
     "text": [
      "The price of apple is $0.50\n"
     ]
    }
   ],
   "source": [
    "data = {'item': 'apple', 'price': 0.5}\n",
    "description = \"The price of {item} is ${price:.2f}\".format_map(data)\n",
    "print(description)"
   ]
  },
  {
   "cell_type": "code",
   "execution_count": 148,
   "id": "869e56cc",
   "metadata": {},
   "outputs": [
    {
     "name": "stdout",
     "output_type": "stream",
     "text": [
      "Enter your name and age (format: name:satish age:30): name:satish age:30\n",
      "Name: satish, Age: 30\n"
     ]
    }
   ],
   "source": [
    "user_input = input(\"Enter your name and age (format: name:satish age:30): \")\n",
    "data = {}\n",
    "for item in user_input.split():\n",
    "    key, value = item.split(':')\n",
    "    data[key] = value\n",
    "\n",
    "info = \"Name: {name}, Age: {age}\".format_map(data)\n",
    "print(info)"
   ]
  },
  {
   "cell_type": "code",
   "execution_count": 149,
   "id": "518ec887",
   "metadata": {},
   "outputs": [
    {
     "name": "stdout",
     "output_type": "stream",
     "text": [
      "Product: laptop, Price: $1000\n"
     ]
    }
   ],
   "source": [
    "key = 'product'\n",
    "value = 'laptop'\n",
    "data = {key: value, 'price': 1000}\n",
    "details = \"Product: {product}, Price: ${price}\".format_map(data)\n",
    "print(details)"
   ]
  },
  {
   "cell_type": "code",
   "execution_count": 150,
   "id": "cfff7cf2",
   "metadata": {},
   "outputs": [
    {
     "name": "stdout",
     "output_type": "stream",
     "text": [
      "Name: Alice, Roll: 101\n"
     ]
    }
   ],
   "source": [
    "class Student:\n",
    "    def __init__(self, name, roll):\n",
    "        self.name = name\n",
    "        self.roll = roll\n",
    "\n",
    "student = Student(name='Alice', roll='101')\n",
    "info = \"Name: {name}, Roll: {roll}\".format_map(student.__dict__)\n",
    "print(info)"
   ]
  },
  {
   "cell_type": "markdown",
   "id": "8a8ba2cb",
   "metadata": {},
   "source": [
    "Method:index()"
   ]
  },
  {
   "cell_type": "markdown",
   "id": "3d36c704",
   "metadata": {},
   "source": [
    "The index() method is used to find the index of a specified substring within a string. It returns the index of the first occurrence of the substring, but raises a ValueError if the substring is not found. You can also provide start and end indices to limit the search within a portion of the string."
   ]
  },
  {
   "cell_type": "code",
   "execution_count": 151,
   "id": "e09a77e0",
   "metadata": {},
   "outputs": [
    {
     "name": "stdout",
     "output_type": "stream",
     "text": [
      "Index of 'world': 7\n"
     ]
    }
   ],
   "source": [
    "text = \"Hello, world!\"\n",
    "substring = \"world\"\n",
    "index = text.index(substring)\n",
    "print(\"Index of 'world':\", index)"
   ]
  },
  {
   "cell_type": "code",
   "execution_count": 152,
   "id": "9f0fa9e4",
   "metadata": {},
   "outputs": [
    {
     "name": "stdout",
     "output_type": "stream",
     "text": [
      "Index of 'programming': 7\n"
     ]
    }
   ],
   "source": [
    "text = \"Python programming is fun!\"\n",
    "substring = \"programming\"\n",
    "start_index = 7\n",
    "end_index = 20\n",
    "index = text.index(substring, start_index, end_index)\n",
    "print(\"Index of 'programming':\", index)"
   ]
  },
  {
   "cell_type": "code",
   "execution_count": 156,
   "id": "a7a83931",
   "metadata": {},
   "outputs": [
    {
     "ename": "ValueError",
     "evalue": "substring not found",
     "output_type": "error",
     "traceback": [
      "\u001b[1;31m---------------------------------------------------------------------------\u001b[0m",
      "\u001b[1;31mValueError\u001b[0m                                Traceback (most recent call last)",
      "Cell \u001b[1;32mIn[156], line 3\u001b[0m\n\u001b[0;32m      1\u001b[0m text \u001b[38;5;241m=\u001b[39m \u001b[38;5;124m\"\u001b[39m\u001b[38;5;124mPython,\u001b[39m\u001b[38;5;124m\"\u001b[39m\n\u001b[0;32m      2\u001b[0m characters \u001b[38;5;241m=\u001b[39m \u001b[38;5;124m\"\u001b[39m\u001b[38;5;124maeiou\u001b[39m\u001b[38;5;124m\"\u001b[39m\n\u001b[1;32m----> 3\u001b[0m index \u001b[38;5;241m=\u001b[39m \u001b[43mtext\u001b[49m\u001b[38;5;241;43m.\u001b[39;49m\u001b[43mindex\u001b[49m\u001b[43m(\u001b[49m\u001b[43mcharacters\u001b[49m\u001b[43m)\u001b[49m\n\u001b[0;32m      4\u001b[0m \u001b[38;5;28mprint\u001b[39m(\u001b[38;5;124m\"\u001b[39m\u001b[38;5;124mIndex of first vowel:\u001b[39m\u001b[38;5;124m\"\u001b[39m, index)\n",
      "\u001b[1;31mValueError\u001b[0m: substring not found"
     ]
    }
   ],
   "source": [
    "text = \"Python\"\n",
    "characters = \"aeiou\"\n",
    "index = text.index(characters)\n",
    "print(\"Index of first vowel:\", index)"
   ]
  },
  {
   "cell_type": "markdown",
   "id": "881839fd",
   "metadata": {},
   "source": [
    "NOTE:This is not error Try to fix This "
   ]
  },
  {
   "cell_type": "code",
   "execution_count": 157,
   "id": "e5b2bfaa",
   "metadata": {},
   "outputs": [
    {
     "ename": "ValueError",
     "evalue": "substring not found",
     "output_type": "error",
     "traceback": [
      "\u001b[1;31m---------------------------------------------------------------------------\u001b[0m",
      "\u001b[1;31mValueError\u001b[0m                                Traceback (most recent call last)",
      "Cell \u001b[1;32mIn[157], line 3\u001b[0m\n\u001b[0;32m      1\u001b[0m text \u001b[38;5;241m=\u001b[39m \u001b[38;5;124m\"\u001b[39m\u001b[38;5;124mPython programming is amazing!\u001b[39m\u001b[38;5;124m\"\u001b[39m\n\u001b[0;32m      2\u001b[0m substring \u001b[38;5;241m=\u001b[39m \u001b[38;5;124m\"\u001b[39m\u001b[38;5;124mprogramming\u001b[39m\u001b[38;5;124m\"\u001b[39m\n\u001b[1;32m----> 3\u001b[0m index \u001b[38;5;241m=\u001b[39m \u001b[43mtext\u001b[49m\u001b[38;5;241;43m.\u001b[39;49m\u001b[43mindex\u001b[49m\u001b[43m(\u001b[49m\u001b[43msubstring\u001b[49m\u001b[43m,\u001b[49m\u001b[43m \u001b[49m\u001b[38;5;241;43m-\u001b[39;49m\u001b[38;5;241;43m10\u001b[39;49m\u001b[43m)\u001b[49m\n\u001b[0;32m      4\u001b[0m \u001b[38;5;28mprint\u001b[39m(\u001b[38;5;124m\"\u001b[39m\u001b[38;5;124mIndex of \u001b[39m\u001b[38;5;124m'\u001b[39m\u001b[38;5;124mprogramming\u001b[39m\u001b[38;5;124m'\u001b[39m\u001b[38;5;124m:\u001b[39m\u001b[38;5;124m\"\u001b[39m, index)\n",
      "\u001b[1;31mValueError\u001b[0m: substring not found"
     ]
    }
   ],
   "source": [
    "text = \"Python programming is amazing!\"\n",
    "substring = \"programming\"\n",
    "index = text.index(substring, -10)\n",
    "print(\"Index of 'programming':\", index)"
   ]
  },
  {
   "cell_type": "code",
   "execution_count": 158,
   "id": "01cd59b5",
   "metadata": {},
   "outputs": [
    {
     "name": "stdout",
     "output_type": "stream",
     "text": [
      "Substring not found in the text.\n"
     ]
    }
   ],
   "source": [
    "text = \"Hello, world!\"\n",
    "substring = \"universe\"\n",
    "try:\n",
    "    index = text.index(substring)\n",
    "    print(\"Index of 'universe':\", index)\n",
    "except ValueError:\n",
    "    print(\"Substring not found in the text.\")"
   ]
  },
  {
   "cell_type": "markdown",
   "id": "56370582",
   "metadata": {},
   "source": [
    "Method:isalnum(),isalpha() Both are sem work"
   ]
  },
  {
   "cell_type": "markdown",
   "id": "9b168118",
   "metadata": {},
   "source": [
    "The isalnum() method is used to check if all characters in a string are either letters or numbers. It returns True if the string contains only alphanumeric characters, and False otherwise."
   ]
  },
  {
   "cell_type": "code",
   "execution_count": 160,
   "id": "d7dfa74e",
   "metadata": {},
   "outputs": [
    {
     "name": "stdout",
     "output_type": "stream",
     "text": [
      "True\n"
     ]
    }
   ],
   "source": [
    "text = \"Hello123\"\n",
    "result = text.isalnum()\n",
    "print(result)"
   ]
  },
  {
   "cell_type": "code",
   "execution_count": 161,
   "id": "5ba7a036",
   "metadata": {},
   "outputs": [
    {
     "name": "stdout",
     "output_type": "stream",
     "text": [
      "False\n"
     ]
    }
   ],
   "source": [
    "text = \"Hello123!\"\n",
    "result = text.isalnum()\n",
    "print(result)"
   ]
  },
  {
   "cell_type": "code",
   "execution_count": 162,
   "id": "ac201142",
   "metadata": {},
   "outputs": [
    {
     "name": "stdout",
     "output_type": "stream",
     "text": [
      "False\n"
     ]
    }
   ],
   "source": [
    "text = \"\"\n",
    "result = text.isalnum()\n",
    "print(result)"
   ]
  },
  {
   "cell_type": "code",
   "execution_count": 163,
   "id": "89889adb",
   "metadata": {},
   "outputs": [
    {
     "name": "stdout",
     "output_type": "stream",
     "text": [
      "False\n"
     ]
    }
   ],
   "source": [
    "text = \"Python 123\"\n",
    "result = text.isalnum()\n",
    "print(result)"
   ]
  },
  {
   "cell_type": "code",
   "execution_count": 164,
   "id": "8e1fd9e6",
   "metadata": {},
   "outputs": [
    {
     "name": "stdout",
     "output_type": "stream",
     "text": [
      "True\n"
     ]
    }
   ],
   "source": [
    "text = \"AlphaBeta123\"\n",
    "result = text.isalnum()\n",
    "print(result)"
   ]
  },
  {
   "cell_type": "markdown",
   "id": "e67e1672",
   "metadata": {},
   "source": [
    "Method:isascii() and isdecimal() Both are sem Work"
   ]
  },
  {
   "cell_type": "markdown",
   "id": "c21b9b41",
   "metadata": {},
   "source": [
    "The isascii() method is used to check whether a string contains only ASCII characters. It returns True if all characters in the string are ASCII, and False if the string contains any non-ASCII characters."
   ]
  },
  {
   "cell_type": "code",
   "execution_count": 165,
   "id": "cb87de98",
   "metadata": {},
   "outputs": [
    {
     "name": "stdout",
     "output_type": "stream",
     "text": [
      "True\n"
     ]
    }
   ],
   "source": [
    "text = \"Hello\"\n",
    "result = text.isascii()\n",
    "print(result)"
   ]
  },
  {
   "cell_type": "code",
   "execution_count": 166,
   "id": "e8a610c1",
   "metadata": {},
   "outputs": [
    {
     "name": "stdout",
     "output_type": "stream",
     "text": [
      "False\n"
     ]
    }
   ],
   "source": [
    "text = \"你好\"\n",
    "result = text.isascii()\n",
    "print(result)"
   ]
  },
  {
   "cell_type": "code",
   "execution_count": 167,
   "id": "17561821",
   "metadata": {},
   "outputs": [
    {
     "name": "stdout",
     "output_type": "stream",
     "text": [
      "True\n"
     ]
    }
   ],
   "source": [
    "text = \"\"\n",
    "result = text.isascii()\n",
    "print(result)"
   ]
  },
  {
   "cell_type": "code",
   "execution_count": 168,
   "id": "c17a9de3",
   "metadata": {},
   "outputs": [
    {
     "name": "stdout",
     "output_type": "stream",
     "text": [
      "False\n"
     ]
    }
   ],
   "source": [
    "text = \"Hello 你好\"\n",
    "result = text.isascii()\n",
    "print(result)"
   ]
  },
  {
   "cell_type": "code",
   "execution_count": 169,
   "id": "c98f1c5b",
   "metadata": {},
   "outputs": [
    {
     "name": "stdout",
     "output_type": "stream",
     "text": [
      "True\n"
     ]
    }
   ],
   "source": [
    "text = \"Hello, world!\"\n",
    "result = text.isascii()\n",
    "print(result)"
   ]
  },
  {
   "cell_type": "markdown",
   "id": "9adab730",
   "metadata": {},
   "source": [
    "Method:isdigit()"
   ]
  },
  {
   "cell_type": "markdown",
   "id": "019d361d",
   "metadata": {},
   "source": [
    "The isdigit() method is used to check if all characters in a string are digits (0-9). It returns True if the string contains only digits, and False otherwise. Note that the isdigit() method doesn't recognize negative numbers or numbers with decimal points as valid digits."
   ]
  },
  {
   "cell_type": "code",
   "execution_count": 170,
   "id": "b08c5479",
   "metadata": {},
   "outputs": [
    {
     "name": "stdout",
     "output_type": "stream",
     "text": [
      "True\n"
     ]
    }
   ],
   "source": [
    "text = \"12345\"\n",
    "result = text.isdigit()\n",
    "print(result)"
   ]
  },
  {
   "cell_type": "code",
   "execution_count": 171,
   "id": "b2ae75b1",
   "metadata": {},
   "outputs": [
    {
     "name": "stdout",
     "output_type": "stream",
     "text": [
      "False\n"
     ]
    }
   ],
   "source": [
    "text = \"Hello123\"\n",
    "result = text.isdigit()\n",
    "print(result)"
   ]
  },
  {
   "cell_type": "code",
   "execution_count": 172,
   "id": "373fd5c4",
   "metadata": {},
   "outputs": [
    {
     "name": "stdout",
     "output_type": "stream",
     "text": [
      "False\n"
     ]
    }
   ],
   "source": [
    "text = \"\"\n",
    "result = text.isdigit()\n",
    "print(result)"
   ]
  },
  {
   "cell_type": "code",
   "execution_count": 173,
   "id": "4da6a610",
   "metadata": {},
   "outputs": [
    {
     "name": "stdout",
     "output_type": "stream",
     "text": [
      "False\n"
     ]
    }
   ],
   "source": [
    "text = \"123 456\"\n",
    "result = text.isdigit()\n",
    "print(result)"
   ]
  },
  {
   "cell_type": "code",
   "execution_count": 174,
   "id": "7f76e5b0",
   "metadata": {},
   "outputs": [
    {
     "name": "stdout",
     "output_type": "stream",
     "text": [
      "False\n"
     ]
    }
   ],
   "source": [
    "text = \"-123\"\n",
    "result = text.isdigit()\n",
    "print(result)"
   ]
  },
  {
   "cell_type": "markdown",
   "id": "76c4a8fa",
   "metadata": {},
   "source": [
    "Method:isidentifier()"
   ]
  },
  {
   "cell_type": "markdown",
   "id": "70e086a1",
   "metadata": {},
   "source": [
    "The isidentifier() method is used to check if a string is a valid identifier in Python. An identifier is a sequence of letters, digits, and underscores, starting with a letter or an underscore. It should not be a Python keyword. The method returns True if the string is a valid identifier, and False otherwise."
   ]
  },
  {
   "cell_type": "code",
   "execution_count": 175,
   "id": "344a2c22",
   "metadata": {},
   "outputs": [
    {
     "name": "stdout",
     "output_type": "stream",
     "text": [
      "True\n"
     ]
    }
   ],
   "source": [
    "text = \"variable_name\"\n",
    "result = text.isidentifier()\n",
    "print(result)\n"
   ]
  },
  {
   "cell_type": "code",
   "execution_count": 176,
   "id": "b999a070",
   "metadata": {},
   "outputs": [
    {
     "name": "stdout",
     "output_type": "stream",
     "text": [
      "False\n"
     ]
    }
   ],
   "source": [
    "text = \"123abc\"\n",
    "result = text.isidentifier()\n",
    "print(result)"
   ]
  },
  {
   "cell_type": "code",
   "execution_count": 177,
   "id": "1c472f9f",
   "metadata": {},
   "outputs": [
    {
     "name": "stdout",
     "output_type": "stream",
     "text": [
      "False\n"
     ]
    }
   ],
   "source": [
    "text = \"my_variable!\"\n",
    "result = text.isidentifier()\n",
    "print(result)"
   ]
  },
  {
   "cell_type": "code",
   "execution_count": 178,
   "id": "7e5a5d54",
   "metadata": {},
   "outputs": [
    {
     "name": "stdout",
     "output_type": "stream",
     "text": [
      "False\n"
     ]
    }
   ],
   "source": [
    "text = \"\"\n",
    "result = text.isidentifier()\n",
    "print(result)"
   ]
  },
  {
   "cell_type": "code",
   "execution_count": 179,
   "id": "3b8ee946",
   "metadata": {},
   "outputs": [
    {
     "name": "stdout",
     "output_type": "stream",
     "text": [
      "False\n"
     ]
    }
   ],
   "source": [
    "text = \"my variable\"\n",
    "result = text.isidentifier()\n",
    "print(result)"
   ]
  },
  {
   "cell_type": "markdown",
   "id": "0de47077",
   "metadata": {},
   "source": [
    "Method:islower()"
   ]
  },
  {
   "cell_type": "markdown",
   "id": "bda6d866",
   "metadata": {},
   "source": [
    "The islower() method is used to check if all characters in a string are lowercase letters. It returns True if the string contains only lowercase characters, and False otherwise."
   ]
  },
  {
   "cell_type": "code",
   "execution_count": 180,
   "id": "e3af8342",
   "metadata": {},
   "outputs": [
    {
     "name": "stdout",
     "output_type": "stream",
     "text": [
      "True\n"
     ]
    }
   ],
   "source": [
    "text = \"hello\"\n",
    "result = text.islower()\n",
    "print(result)"
   ]
  },
  {
   "cell_type": "code",
   "execution_count": 181,
   "id": "8520943d",
   "metadata": {},
   "outputs": [
    {
     "name": "stdout",
     "output_type": "stream",
     "text": [
      "False\n"
     ]
    }
   ],
   "source": [
    "text = \"Hello\"\n",
    "result = text.islower()\n",
    "print(result)"
   ]
  },
  {
   "cell_type": "code",
   "execution_count": 182,
   "id": "6b292264",
   "metadata": {},
   "outputs": [
    {
     "name": "stdout",
     "output_type": "stream",
     "text": [
      "False\n"
     ]
    }
   ],
   "source": [
    "text = \"\"\n",
    "result = text.islower()\n",
    "print(result)"
   ]
  },
  {
   "cell_type": "code",
   "execution_count": 183,
   "id": "0188705d",
   "metadata": {},
   "outputs": [
    {
     "name": "stdout",
     "output_type": "stream",
     "text": [
      "True\n"
     ]
    }
   ],
   "source": [
    "text = \"hello123\"\n",
    "result = text.islower()\n",
    "print(result)"
   ]
  },
  {
   "cell_type": "code",
   "execution_count": 184,
   "id": "3aeddbff",
   "metadata": {},
   "outputs": [
    {
     "name": "stdout",
     "output_type": "stream",
     "text": [
      "True\n"
     ]
    }
   ],
   "source": [
    "text = \"hello!\"\n",
    "result = text.islower()\n",
    "print(result)"
   ]
  },
  {
   "cell_type": "markdown",
   "id": "2b0708dd",
   "metadata": {},
   "source": [
    "Method:isnumeric()"
   ]
  },
  {
   "cell_type": "markdown",
   "id": "5bde539a",
   "metadata": {},
   "source": [
    "The isnumeric() method is used to check if all characters in a string are numeric characters (digits). It returns True if the string contains only numeric characters, and False otherwise. Unlike isdigit(), the isnumeric() method can also recognize other numeric characters like fractions, superscripts, and subscripts."
   ]
  },
  {
   "cell_type": "code",
   "execution_count": 185,
   "id": "5c7802c7",
   "metadata": {},
   "outputs": [
    {
     "name": "stdout",
     "output_type": "stream",
     "text": [
      "True\n"
     ]
    }
   ],
   "source": [
    "text = \"12345\"\n",
    "result = text.isnumeric()\n",
    "print(result)"
   ]
  },
  {
   "cell_type": "code",
   "execution_count": 186,
   "id": "4a0e5c01",
   "metadata": {},
   "outputs": [
    {
     "name": "stdout",
     "output_type": "stream",
     "text": [
      "False\n"
     ]
    }
   ],
   "source": [
    "text = \"Hello123\"\n",
    "result = text.isnumeric()\n",
    "print(result)"
   ]
  },
  {
   "cell_type": "code",
   "execution_count": 187,
   "id": "dfd32b8e",
   "metadata": {},
   "outputs": [
    {
     "name": "stdout",
     "output_type": "stream",
     "text": [
      "False\n"
     ]
    }
   ],
   "source": [
    "text = \"\"\n",
    "result = text.isnumeric()\n",
    "print(result)"
   ]
  },
  {
   "cell_type": "code",
   "execution_count": 188,
   "id": "2812072a",
   "metadata": {},
   "outputs": [
    {
     "name": "stdout",
     "output_type": "stream",
     "text": [
      "False\n"
     ]
    }
   ],
   "source": [
    "text = \"123 456\"\n",
    "result = text.isnumeric()\n",
    "print(result)"
   ]
  },
  {
   "cell_type": "code",
   "execution_count": 189,
   "id": "172da6c6",
   "metadata": {},
   "outputs": [
    {
     "name": "stdout",
     "output_type": "stream",
     "text": [
      "False\n"
     ]
    }
   ],
   "source": [
    "text = \"-123\"\n",
    "result = text.isnumeric()\n",
    "print(result)"
   ]
  },
  {
   "cell_type": "markdown",
   "id": "2ba009d0",
   "metadata": {},
   "source": [
    "Method:isprintable()"
   ]
  },
  {
   "cell_type": "markdown",
   "id": "abf5d98d",
   "metadata": {},
   "source": [
    "The isprintable() method is used to check if all characters in a string are printable. It returns True if all characters in the string are printable (visible) characters like letters, digits, punctuation, and spaces, and False if the string contains non-printable characters like control characters."
   ]
  },
  {
   "cell_type": "code",
   "execution_count": 190,
   "id": "94eefdd8",
   "metadata": {},
   "outputs": [
    {
     "name": "stdout",
     "output_type": "stream",
     "text": [
      "True\n"
     ]
    }
   ],
   "source": [
    "text = \"Hello, world!\"\n",
    "result = text.isprintable()\n",
    "print(result)"
   ]
  },
  {
   "cell_type": "code",
   "execution_count": 191,
   "id": "a44fd3c9",
   "metadata": {},
   "outputs": [
    {
     "name": "stdout",
     "output_type": "stream",
     "text": [
      "False\n"
     ]
    }
   ],
   "source": [
    "text = \"Hello\\nWorld\"\n",
    "result = text.isprintable()\n",
    "print(result)"
   ]
  },
  {
   "cell_type": "code",
   "execution_count": 192,
   "id": "7f0a42fd",
   "metadata": {},
   "outputs": [
    {
     "name": "stdout",
     "output_type": "stream",
     "text": [
      "True\n"
     ]
    }
   ],
   "source": [
    "text = \"\"\n",
    "result = text.isprintable()\n",
    "print(result)"
   ]
  },
  {
   "cell_type": "code",
   "execution_count": 193,
   "id": "1b179170",
   "metadata": {},
   "outputs": [
    {
     "name": "stdout",
     "output_type": "stream",
     "text": [
      "False\n"
     ]
    }
   ],
   "source": [
    "text = \"Python\\tProgramming\"\n",
    "result = text.isprintable()\n",
    "print(result)"
   ]
  },
  {
   "cell_type": "code",
   "execution_count": 194,
   "id": "94ad6c77",
   "metadata": {},
   "outputs": [
    {
     "name": "stdout",
     "output_type": "stream",
     "text": [
      "False\n"
     ]
    }
   ],
   "source": [
    "text = \"Hello\\x07World\"\n",
    "result = text.isprintable()\n",
    "print(result)"
   ]
  },
  {
   "cell_type": "markdown",
   "id": "0f2e495f",
   "metadata": {},
   "source": [
    "Method:isspace()"
   ]
  },
  {
   "cell_type": "markdown",
   "id": "7ba5c029",
   "metadata": {},
   "source": [
    "The isspace() method is used to check if all characters in a string are whitespace characters, such as spaces, tabs, and line breaks. It returns True if the string contains only whitespace characters, and False otherwise."
   ]
  },
  {
   "cell_type": "code",
   "execution_count": 195,
   "id": "c97d0d92",
   "metadata": {},
   "outputs": [
    {
     "name": "stdout",
     "output_type": "stream",
     "text": [
      "True\n"
     ]
    }
   ],
   "source": [
    "text = \"    \"\n",
    "result = text.isspace()\n",
    "print(result)"
   ]
  },
  {
   "cell_type": "code",
   "execution_count": 196,
   "id": "a403bf13",
   "metadata": {},
   "outputs": [
    {
     "name": "stdout",
     "output_type": "stream",
     "text": [
      "False\n"
     ]
    }
   ],
   "source": [
    "text = \"  Hello World  \"\n",
    "result = text.isspace()\n",
    "print(result)"
   ]
  },
  {
   "cell_type": "code",
   "execution_count": 197,
   "id": "31f90cc5",
   "metadata": {},
   "outputs": [
    {
     "name": "stdout",
     "output_type": "stream",
     "text": [
      "False\n"
     ]
    }
   ],
   "source": [
    "text = \"\"\n",
    "result = text.isspace()\n",
    "print(result)"
   ]
  },
  {
   "cell_type": "code",
   "execution_count": 198,
   "id": "a6bb0db5",
   "metadata": {},
   "outputs": [
    {
     "name": "stdout",
     "output_type": "stream",
     "text": [
      "True\n"
     ]
    }
   ],
   "source": [
    "text = \"\\t   \\t\"\n",
    "result = text.isspace()\n",
    "print(result)"
   ]
  },
  {
   "cell_type": "code",
   "execution_count": 199,
   "id": "210aad57",
   "metadata": {},
   "outputs": [
    {
     "name": "stdout",
     "output_type": "stream",
     "text": [
      "True\n"
     ]
    }
   ],
   "source": [
    "text = \"\\n  \\n\"\n",
    "result = text.isspace()\n",
    "print(result)"
   ]
  },
  {
   "cell_type": "markdown",
   "id": "9f0c9133",
   "metadata": {},
   "source": [
    "Method:isupper()"
   ]
  },
  {
   "cell_type": "markdown",
   "id": "6ee0190a",
   "metadata": {},
   "source": [
    "The isupper() method is used to check if all characters in a string are uppercase letters. It returns True if the string contains only uppercase characters, and False otherwise."
   ]
  },
  {
   "cell_type": "code",
   "execution_count": 200,
   "id": "1e7d3fcd",
   "metadata": {},
   "outputs": [
    {
     "name": "stdout",
     "output_type": "stream",
     "text": [
      "True\n"
     ]
    }
   ],
   "source": [
    "text = \"HELLO\"\n",
    "result = text.isupper()\n",
    "print(result)"
   ]
  },
  {
   "cell_type": "code",
   "execution_count": 201,
   "id": "301b6520",
   "metadata": {},
   "outputs": [
    {
     "name": "stdout",
     "output_type": "stream",
     "text": [
      "False\n"
     ]
    }
   ],
   "source": [
    "text = \"Hello\"\n",
    "result = text.isupper()\n",
    "print(result)"
   ]
  },
  {
   "cell_type": "code",
   "execution_count": 202,
   "id": "59d67709",
   "metadata": {},
   "outputs": [
    {
     "name": "stdout",
     "output_type": "stream",
     "text": [
      "False\n"
     ]
    }
   ],
   "source": [
    "text = \"\"\n",
    "result = text.isupper()\n",
    "print(result)"
   ]
  },
  {
   "cell_type": "code",
   "execution_count": 203,
   "id": "446cbdb9",
   "metadata": {},
   "outputs": [
    {
     "name": "stdout",
     "output_type": "stream",
     "text": [
      "True\n"
     ]
    }
   ],
   "source": [
    "text = \"HELLO123\"\n",
    "result = text.isupper()\n",
    "print(result)"
   ]
  },
  {
   "cell_type": "code",
   "execution_count": 204,
   "id": "1908a0a2",
   "metadata": {},
   "outputs": [
    {
     "name": "stdout",
     "output_type": "stream",
     "text": [
      "True\n"
     ]
    }
   ],
   "source": [
    "text = \"HELLO!\"\n",
    "result = text.isupper()\n",
    "print(result)"
   ]
  },
  {
   "cell_type": "markdown",
   "id": "2d7144d0",
   "metadata": {},
   "source": [
    "Method:join()"
   ]
  },
  {
   "cell_type": "markdown",
   "id": "3cfd8c96",
   "metadata": {},
   "source": [
    "The join() method is used to concatenate elements from an iterable (such as a list, tuple, or string) using a specified delimiter. It returns a new string where the elements are separated by the provided delimiter."
   ]
  },
  {
   "cell_type": "code",
   "execution_count": 205,
   "id": "40f2f8e7",
   "metadata": {},
   "outputs": [
    {
     "name": "stdout",
     "output_type": "stream",
     "text": [
      "Hello world Python\n"
     ]
    }
   ],
   "source": [
    "words = [\"Hello\", \"world\", \"Python\"]\n",
    "sentence = \" \".join(words)\n",
    "print(sentence)"
   ]
  },
  {
   "cell_type": "code",
   "execution_count": 206,
   "id": "efd491e2",
   "metadata": {},
   "outputs": [
    {
     "name": "stdout",
     "output_type": "stream",
     "text": [
      "Python\n"
     ]
    }
   ],
   "source": [
    "characters = ['P', 'y', 't', 'h', 'o', 'n']\n",
    "word = \"\".join(characters)\n",
    "print(word)"
   ]
  },
  {
   "cell_type": "code",
   "execution_count": 207,
   "id": "dc938be3",
   "metadata": {},
   "outputs": [
    {
     "name": "stdout",
     "output_type": "stream",
     "text": [
      "1-2-3-4-5\n"
     ]
    }
   ],
   "source": [
    "numbers = [1, 2, 3, 4, 5]\n",
    "number_string = \"-\".join(map(str, numbers))\n",
    "print(number_string)"
   ]
  },
  {
   "cell_type": "code",
   "execution_count": 208,
   "id": "682b053b",
   "metadata": {},
   "outputs": [
    {
     "name": "stdout",
     "output_type": "stream",
     "text": [
      "This is a sentence.\n",
      "Another sentence here.\n"
     ]
    }
   ],
   "source": [
    "sentences = [\"This is a sentence.\", \"Another sentence here.\"]\n",
    "paragraph = \"\\n\".join(sentences)\n",
    "print(paragraph)"
   ]
  },
  {
   "cell_type": "code",
   "execution_count": 209,
   "id": "af95d489",
   "metadata": {},
   "outputs": [
    {
     "name": "stdout",
     "output_type": "stream",
     "text": [
      "Python, Java, C++\n"
     ]
    }
   ],
   "source": [
    "languages = (\"Python\", \"Java\", \"C++\")\n",
    "language_list = \", \".join(languages)\n",
    "print(language_list)"
   ]
  },
  {
   "cell_type": "markdown",
   "id": "bc27c769",
   "metadata": {},
   "source": [
    "Method:lower()"
   ]
  },
  {
   "cell_type": "markdown",
   "id": "78de3c64",
   "metadata": {},
   "source": [
    "The lower() method is used to convert all characters in a string to lowercase. It returns a new string where all alphabetic characters are converted to lowercase, while non-alphabetic characters remain unchanged."
   ]
  },
  {
   "cell_type": "code",
   "execution_count": 210,
   "id": "4835239d",
   "metadata": {},
   "outputs": [
    {
     "name": "stdout",
     "output_type": "stream",
     "text": [
      "hello, world!\n"
     ]
    }
   ],
   "source": [
    "text = \"Hello, World!\"\n",
    "lower_text = text.lower()\n",
    "print(lower_text)"
   ]
  },
  {
   "cell_type": "code",
   "execution_count": 211,
   "id": "d4771a7c",
   "metadata": {},
   "outputs": [
    {
     "name": "stdout",
     "output_type": "stream",
     "text": [
      "python programming\n"
     ]
    }
   ],
   "source": [
    "text = \"PyThOn PrOgRaMmInG\"\n",
    "lower_text = text.lower()\n",
    "print(lower_text)"
   ]
  },
  {
   "cell_type": "code",
   "execution_count": 212,
   "id": "6c86e550",
   "metadata": {},
   "outputs": [
    {
     "name": "stdout",
     "output_type": "stream",
     "text": [
      "uppercase\n"
     ]
    }
   ],
   "source": [
    "text = \"UPPERCASE\"\n",
    "lower_text = text.lower()\n",
    "print(lower_text)"
   ]
  },
  {
   "cell_type": "code",
   "execution_count": 213,
   "id": "44b5874c",
   "metadata": {},
   "outputs": [
    {
     "name": "stdout",
     "output_type": "stream",
     "text": [
      "\n"
     ]
    }
   ],
   "source": [
    "text = \"\"\n",
    "lower_text = text.lower()\n",
    "print(lower_text)"
   ]
  },
  {
   "cell_type": "code",
   "execution_count": 214,
   "id": "f2ac46aa",
   "metadata": {},
   "outputs": [
    {
     "name": "stdout",
     "output_type": "stream",
     "text": [
      "123 abc!?\n"
     ]
    }
   ],
   "source": [
    "text = \"123 ABC!?\"\n",
    "lower_text = text.lower()\n",
    "print(lower_text)"
   ]
  },
  {
   "cell_type": "markdown",
   "id": "241c16da",
   "metadata": {},
   "source": [
    "Method:lstrip()"
   ]
  },
  {
   "cell_type": "markdown",
   "id": "8997302c",
   "metadata": {},
   "source": [
    "The lstrip() method is used to remove leading whitespace or a specified set of characters from the beginning of a string. It returns a new string with the leading characters removed."
   ]
  },
  {
   "cell_type": "code",
   "execution_count": 215,
   "id": "64b5ef76",
   "metadata": {},
   "outputs": [
    {
     "name": "stdout",
     "output_type": "stream",
     "text": [
      "Hello, world!\n"
     ]
    }
   ],
   "source": [
    "text = \"    Hello, world!\"\n",
    "new_text = text.lstrip()\n",
    "print(new_text)"
   ]
  },
  {
   "cell_type": "code",
   "execution_count": 216,
   "id": "5285a282",
   "metadata": {},
   "outputs": [
    {
     "name": "stdout",
     "output_type": "stream",
     "text": [
      " Python is great!\n"
     ]
    }
   ],
   "source": [
    "text = \">>> Python is great!\"\n",
    "new_text = text.lstrip(\">\")\n",
    "print(new_text)"
   ]
  },
  {
   "cell_type": "code",
   "execution_count": 217,
   "id": "69b3aeab",
   "metadata": {},
   "outputs": [
    {
     "name": "stdout",
     "output_type": "stream",
     "text": [
      "Hello, world!\n"
     ]
    }
   ],
   "source": [
    "text = \"\\n\\n\\nHello, world!\"\n",
    "new_text = text.lstrip()\n",
    "print(new_text)"
   ]
  },
  {
   "cell_type": "code",
   "execution_count": 218,
   "id": "ac346690",
   "metadata": {},
   "outputs": [
    {
     "name": "stdout",
     "output_type": "stream",
     "text": [
      "Hello, world!\n"
     ]
    }
   ],
   "source": [
    "text = \"Hello, world!\"\n",
    "new_text = text.lstrip()\n",
    "print(new_text)"
   ]
  },
  {
   "cell_type": "code",
   "execution_count": 219,
   "id": "14ea7822",
   "metadata": {},
   "outputs": [
    {
     "name": "stdout",
     "output_type": "stream",
     "text": [
      "Python\n"
     ]
    }
   ],
   "source": [
    "text = \"12345Python\"\n",
    "new_text = text.lstrip(\"0123456789\")\n",
    "print(new_text)"
   ]
  },
  {
   "cell_type": "markdown",
   "id": "143822d1",
   "metadata": {},
   "source": [
    "Method:replace()"
   ]
  },
  {
   "cell_type": "markdown",
   "id": "7f51a036",
   "metadata": {},
   "source": [
    "The replace() method is used to replace occurrences of a substring with another substring within a string. It returns a new string with the specified replacements. You can also provide an optional argument to limit the number of replacements."
   ]
  },
  {
   "cell_type": "code",
   "execution_count": 220,
   "id": "50a91410",
   "metadata": {},
   "outputs": [
    {
     "name": "stdout",
     "output_type": "stream",
     "text": [
      "Hello, Python!\n"
     ]
    }
   ],
   "source": [
    "text = \"Hello, world!\"\n",
    "new_text = text.replace(\"world\", \"Python\")\n",
    "print(new_text)"
   ]
  },
  {
   "cell_type": "code",
   "execution_count": 221,
   "id": "10a22942",
   "metadata": {},
   "outputs": [
    {
     "name": "stdout",
     "output_type": "stream",
     "text": [
      "Java is fun, Java is cool.\n"
     ]
    }
   ],
   "source": [
    "text = \"Python is fun, Python is cool.\"\n",
    "new_text = text.replace(\"Python\", \"Java\")\n",
    "print(new_text)"
   ]
  },
  {
   "cell_type": "code",
   "execution_count": 222,
   "id": "6ea543de",
   "metadata": {},
   "outputs": [
    {
     "name": "stdout",
     "output_type": "stream",
     "text": [
      "Python programming is great.\n"
     ]
    }
   ],
   "source": [
    "text = \"Python programming is great.\"\n",
    "new_text = text.replace(\"PYTHON\", \"Java\", 1)\n",
    "print(new_text)"
   ]
  },
  {
   "cell_type": "code",
   "execution_count": 223,
   "id": "d309af66",
   "metadata": {},
   "outputs": [
    {
     "name": "stdout",
     "output_type": "stream",
     "text": [
      "Hello, !\n"
     ]
    }
   ],
   "source": [
    "text = \"Hello, Python!\"\n",
    "new_text = text.replace(\"Python\", \"\")\n",
    "print(new_text)"
   ]
  },
  {
   "cell_type": "code",
   "execution_count": 224,
   "id": "0eb81606",
   "metadata": {},
   "outputs": [
    {
     "name": "stdout",
     "output_type": "stream",
     "text": [
      "Java is easy, Java is powerful, Python is versatile.\n"
     ]
    }
   ],
   "source": [
    "text = \"Python is easy, Python is powerful, Python is versatile.\"\n",
    "new_text = text.replace(\"Python\", \"Java\", 2)\n",
    "print(new_text)"
   ]
  },
  {
   "cell_type": "markdown",
   "id": "b78467b3",
   "metadata": {},
   "source": [
    "Method:zfill()"
   ]
  },
  {
   "cell_type": "markdown",
   "id": "b40685a3",
   "metadata": {},
   "source": [
    "The zfill() method is used to pad a string with zeros (0) on the left side to achieve a specified width. It returns a new string with added zeros. The width argument specifies the total width of the resulting string."
   ]
  },
  {
   "cell_type": "code",
   "execution_count": 225,
   "id": "94067735",
   "metadata": {},
   "outputs": [
    {
     "name": "stdout",
     "output_type": "stream",
     "text": [
      "00042\n"
     ]
    }
   ],
   "source": [
    "number = \"42\"\n",
    "padded_number = number.zfill(5)\n",
    "print(padded_number)"
   ]
  },
  {
   "cell_type": "code",
   "execution_count": 226,
   "id": "30423b87",
   "metadata": {},
   "outputs": [
    {
     "name": "stdout",
     "output_type": "stream",
     "text": [
      "-007\n"
     ]
    }
   ],
   "source": [
    "negative_number = \"-7\"\n",
    "padded_negative_number = negative_number.zfill(4)\n",
    "print(padded_negative_number)"
   ]
  },
  {
   "cell_type": "code",
   "execution_count": 227,
   "id": "a3dc2809",
   "metadata": {},
   "outputs": [
    {
     "name": "stdout",
     "output_type": "stream",
     "text": [
      "12345\n"
     ]
    }
   ],
   "source": [
    "number = \"12345\"\n",
    "padded_number = number.zfill(5)\n",
    "print(padded_number)"
   ]
  },
  {
   "cell_type": "code",
   "execution_count": 228,
   "id": "f1ec313d",
   "metadata": {},
   "outputs": [
    {
     "name": "stdout",
     "output_type": "stream",
     "text": [
      "0000Python\n"
     ]
    }
   ],
   "source": [
    "text = \"Python\"\n",
    "padded_text = text.zfill(10)\n",
    "print(padded_text)"
   ]
  },
  {
   "cell_type": "code",
   "execution_count": 229,
   "id": "8956b078",
   "metadata": {},
   "outputs": [
    {
     "name": "stdout",
     "output_type": "stream",
     "text": [
      "-0000123\n"
     ]
    }
   ],
   "source": [
    "negative_number = \"-123\"\n",
    "padded_negative_number = negative_number.zfill(8)\n",
    "print(padded_negative_number)"
   ]
  },
  {
   "cell_type": "markdown",
   "id": "8df847e7",
   "metadata": {},
   "source": [
    "Method:swapcase()"
   ]
  },
  {
   "cell_type": "markdown",
   "id": "74e2d112",
   "metadata": {},
   "source": [
    "The swapcase() method is used to create a new string where the case of all alphabetic characters in the original string is swapped: uppercase characters become lowercase, and lowercase characters become uppercase. Non-alphabetic characters remain unchanged."
   ]
  },
  {
   "cell_type": "code",
   "execution_count": 230,
   "id": "c2205faf",
   "metadata": {},
   "outputs": [
    {
     "name": "stdout",
     "output_type": "stream",
     "text": [
      "hELLO, wORLD!\n"
     ]
    }
   ],
   "source": [
    "text = \"Hello, World!\"\n",
    "swapped_text = text.swapcase()\n",
    "print(swapped_text)"
   ]
  },
  {
   "cell_type": "code",
   "execution_count": 231,
   "id": "a6f4343f",
   "metadata": {},
   "outputs": [
    {
     "name": "stdout",
     "output_type": "stream",
     "text": [
      "pYtHoN pRoGrAmMiNg\n"
     ]
    }
   ],
   "source": [
    "text = \"PyThOn PrOgRaMmInG\"\n",
    "swapped_text = text.swapcase()\n",
    "print(swapped_text)"
   ]
  },
  {
   "cell_type": "code",
   "execution_count": 232,
   "id": "4243b89d",
   "metadata": {},
   "outputs": [
    {
     "name": "stdout",
     "output_type": "stream",
     "text": [
      "uppercase\n"
     ]
    }
   ],
   "source": [
    "text = \"UPPERCASE\"\n",
    "swapped_text = text.swapcase()\n",
    "print(swapped_text)"
   ]
  },
  {
   "cell_type": "code",
   "execution_count": 234,
   "id": "8600dfb9",
   "metadata": {},
   "outputs": [
    {
     "name": "stdout",
     "output_type": "stream",
     "text": [
      "\n"
     ]
    }
   ],
   "source": [
    "text = \"\"\n",
    "swapped_text = text.swapcase()\n",
    "print(swapped_text)"
   ]
  },
  {
   "cell_type": "code",
   "execution_count": 235,
   "id": "03ae2f3f",
   "metadata": {},
   "outputs": [
    {
     "name": "stdout",
     "output_type": "stream",
     "text": [
      "123 abc!?\n"
     ]
    }
   ],
   "source": [
    "text = \"123 ABC!?\"\n",
    "swapped_text = text.swapcase()\n",
    "print(swapped_text)"
   ]
  },
  {
   "cell_type": "markdown",
   "id": "5f64f6fd",
   "metadata": {},
   "source": [
    "Logick:Slicing"
   ]
  },
  {
   "cell_type": "markdown",
   "id": "7fbcd6f8",
   "metadata": {},
   "source": [
    "Slicing is a powerful technique in Python to extract portions of strings by specifying start, end, and step indices. It allows you to work with substrings, reverse strings, and skip elements as needed\\"
   ]
  },
  {
   "cell_type": "code",
   "execution_count": 236,
   "id": "f8d15915",
   "metadata": {},
   "outputs": [
    {
     "name": "stdout",
     "output_type": "stream",
     "text": [
      "World\n"
     ]
    }
   ],
   "source": [
    "text = \"Hello, World!\"\n",
    "substring = text[7:12]\n",
    "print(substring)"
   ]
  },
  {
   "cell_type": "code",
   "execution_count": 237,
   "id": "e753e92a",
   "metadata": {},
   "outputs": [
    {
     "name": "stdout",
     "output_type": "stream",
     "text": [
      "Programmin\n"
     ]
    }
   ],
   "source": [
    "text = \"Python Programming\"\n",
    "sliced_text = text[-11:-1]\n",
    "print(sliced_text)"
   ]
  },
  {
   "cell_type": "code",
   "execution_count": 238,
   "id": "e8902fe2",
   "metadata": {},
   "outputs": [
    {
     "name": "stdout",
     "output_type": "stream",
     "text": [
      "Pto rga\n"
     ]
    }
   ],
   "source": [
    "text = \"Python Programming\"\n",
    "sliced_text = text[0:14:2]\n",
    "print(sliced_text)"
   ]
  },
  {
   "cell_type": "code",
   "execution_count": 239,
   "id": "c6d915c4",
   "metadata": {},
   "outputs": [
    {
     "name": "stdout",
     "output_type": "stream",
     "text": [
      "nohtyP\n"
     ]
    }
   ],
   "source": [
    "text = \"Python\"\n",
    "reversed_text = text[::-1]\n",
    "print(reversed_text)"
   ]
  },
  {
   "cell_type": "code",
   "execution_count": 240,
   "id": "b916713b",
   "metadata": {},
   "outputs": [
    {
     "name": "stdout",
     "output_type": "stream",
     "text": [
      "02468\n"
     ]
    }
   ],
   "source": [
    "numbers = \"0123456789\"\n",
    "even_numbers = numbers[::2]\n",
    "print(even_numbers)"
   ]
  },
  {
   "cell_type": "markdown",
   "id": "01cfcec0",
   "metadata": {},
   "source": [
    "Logick:Modify Strings"
   ]
  },
  {
   "cell_type": "markdown",
   "id": "29155aad",
   "metadata": {},
   "source": [
    "These programs modify strings without using the built-in string methods by manually manipulating the characters in the strings.\n",
    "NOTE: in this logick i am use if and else statment Sorry about this but this is important"
   ]
  },
  {
   "cell_type": "code",
   "execution_count": 241,
   "id": "145eaeb3",
   "metadata": {},
   "outputs": [
    {
     "name": "stdout",
     "output_type": "stream",
     "text": [
      "HELLO, WORLD!\n"
     ]
    }
   ],
   "source": [
    "text = \"hello, world!\"\n",
    "uppercase_text = \"\"\n",
    "for char in text:\n",
    "    if 'a' <= char <= 'z':\n",
    "        uppercase_text += chr(ord(char) - 32)\n",
    "    else:\n",
    "        uppercase_text += char\n",
    "print(uppercase_text)"
   ]
  },
  {
   "cell_type": "code",
   "execution_count": 242,
   "id": "508d628a",
   "metadata": {},
   "outputs": [
    {
     "name": "stdout",
     "output_type": "stream",
     "text": [
      "Python Programming\n"
     ]
    }
   ],
   "source": [
    "text = \"python programming\"\n",
    "title_case_text = \"\"\n",
    "capitalize_next = True\n",
    "for char in text:\n",
    "    if char == ' ':\n",
    "        capitalize_next = True\n",
    "        title_case_text += char\n",
    "    elif capitalize_next:\n",
    "        title_case_text += char.upper()\n",
    "        capitalize_next = False\n",
    "    else:\n",
    "        title_case_text += char.lower()\n",
    "print(title_case_text)\n"
   ]
  },
  {
   "cell_type": "code",
   "execution_count": 243,
   "id": "e3ca7b37",
   "metadata": {},
   "outputs": [
    {
     "name": "stdout",
     "output_type": "stream",
     "text": [
      "Python programming is fun!\n"
     ]
    }
   ],
   "source": [
    "text = \"   Python programming is fun!   \"\n",
    "trimmed_text = \"\"\n",
    "start = 0\n",
    "end = len(text) - 1\n",
    "while start < len(text) and text[start] == ' ':\n",
    "    start += 1\n",
    "while end >= 0 and text[end] == ' ':\n",
    "    end -= 1\n",
    "trimmed_text = text[start:end+1]\n",
    "print(trimmed_text)"
   ]
  },
  {
   "cell_type": "code",
   "execution_count": 244,
   "id": "c965b91a",
   "metadata": {},
   "outputs": [
    {
     "name": "stdout",
     "output_type": "stream",
     "text": [
      "Hello, Python!\n"
     ]
    }
   ],
   "source": [
    "text = \"Hello, world!\"\n",
    "search_substring = \"world\"\n",
    "replace_substring = \"Python\"\n",
    "new_text = \"\"\n",
    "index = 0\n",
    "while index < len(text):\n",
    "    if text[index:index+len(search_substring)] == search_substring:\n",
    "        new_text += replace_substring\n",
    "        index += len(search_substring)\n",
    "    else:\n",
    "        new_text += text[index]\n",
    "        index += 1\n",
    "print(new_text)"
   ]
  },
  {
   "cell_type": "code",
   "execution_count": 245,
   "id": "811171cd",
   "metadata": {},
   "outputs": [
    {
     "name": "stdout",
     "output_type": "stream",
     "text": [
      "Python is awesome\n"
     ]
    }
   ],
   "source": [
    "words = [\"Python\", \"is\", \"awesome\"]\n",
    "joined_text = \"\"\n",
    "for i, word in enumerate(words):\n",
    "    joined_text += word\n",
    "    if i < len(words) - 1:\n",
    "        joined_text += \" \"\n",
    "print(joined_text)"
   ]
  },
  {
   "cell_type": "code",
   "execution_count": null,
   "id": "1363450e",
   "metadata": {},
   "outputs": [],
   "source": []
  }
 ],
 "metadata": {
  "kernelspec": {
   "display_name": "Python 3 (ipykernel)",
   "language": "python",
   "name": "python3"
  },
  "language_info": {
   "codemirror_mode": {
    "name": "ipython",
    "version": 3
   },
   "file_extension": ".py",
   "mimetype": "text/x-python",
   "name": "python",
   "nbconvert_exporter": "python",
   "pygments_lexer": "ipython3",
   "version": "3.10.11"
  }
 },
 "nbformat": 4,
 "nbformat_minor": 5
}
