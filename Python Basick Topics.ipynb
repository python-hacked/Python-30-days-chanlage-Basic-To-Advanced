{
 "cells": [
  {
   "cell_type": "markdown",
   "id": "dc3f7d2b",
   "metadata": {},
   "source": [
    "**Day 1: Introduction to Python, Installing Python, Running Your First Program**\n",
    "\n",
    "**Introduction to Python:**\n",
    "- Python is a high-level programming language known for its simplicity and readability.\n",
    "- It is widely used for web development, data analysis, artificial intelligence, and more.\n",
    "- Python uses indentation to define code blocks, promoting clean and organized code.\n",
    "\n",
    "**Installing Python:**\n",
    "1. Visit the official Python website: https://www.python.org/\n",
    "2. Download the latest version of Python for your operating system (Windows, macOS, Linux).\n",
    "3. Run the installer and follow the installation instructions.\n",
    "4. During installation, make sure to check the option to add Python to your system PATH, which allows you to run Python from the command line.\n",
    "\n",
    "**Running Your First Program:**\n",
    "1. Open a text editor (e.g., Notepad on Windows, TextEdit on macOS) or use an integrated development environment (IDE) like Visual Studio Code, PyCharm, or IDLE.\n",
    "2. Type the following code:\n",
    "\n",
    "```python\n",
    "print(\"Hello, world!\")\n",
    "```\n",
    "\n",
    "3. Save the file with a `.py` extension (e.g., `first_program.py`).\n",
    "4. Open your command prompt (Windows) or terminal (macOS, Linux).\n",
    "5. Navigate to the directory where you saved the `.py` file using the `cd` command.\n",
    "6. Run the program by entering: `python first_program.py`\n",
    "7. You should see the output: `Hello, world!`\n",
    "\n",
    "**Notes:**\n",
    "- Python uses the `print()` function to display output to the console.\n",
    "- The text within double or single quotes is a string literal.\n",
    "- Make sure to save your Python files with the `.py` extension.\n",
    "- Indentation is crucial in Python. Use consistent indentation to define code blocks.\n",
    "- The `python` command followed by the filename runs the Python script.\n",
    "\n",
    "**Tips:**\n",
    "- Experiment with changing the text inside the `print()` function to see different outputs.\n",
    "- Familiarize yourself with the basic syntax and structure of Python code.\n",
    "- Take time to understand the importance of indentation in Python.\n",
    "- In subsequent days, you'll explore more about variables, data types, and basic operations."
   ]
  },
  {
   "cell_type": "code",
   "execution_count": null,
   "id": "bdfdfcc5",
   "metadata": {},
   "outputs": [],
   "source": []
  }
 ],
 "metadata": {
  "kernelspec": {
   "display_name": "Python 3 (ipykernel)",
   "language": "python",
   "name": "python3"
  },
  "language_info": {
   "codemirror_mode": {
    "name": "ipython",
    "version": 3
   },
   "file_extension": ".py",
   "mimetype": "text/x-python",
   "name": "python",
   "nbconvert_exporter": "python",
   "pygments_lexer": "ipython3",
   "version": "3.10.11"
  }
 },
 "nbformat": 4,
 "nbformat_minor": 5
}
