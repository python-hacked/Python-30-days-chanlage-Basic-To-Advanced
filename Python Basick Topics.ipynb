{
 "cells": [
  {
   "cell_type": "markdown",
   "id": "227097ca",
   "metadata": {},
   "source": [
    "**Day 1: Introduction to Python, Installing Python, Running Your First Program**\n",
    "\n",
    "**Introduction to Python:**\n",
    "- Python is a high-level programming language known for its simplicity and readability.\n",
    "- It is widely used for web development, data analysis, artificial intelligence, and more.\n",
    "- Python uses indentation to define code blocks, promoting clean and organized code.\n",
    "\n",
    "**Installing Python:**\n",
    "1. Visit the official Python website: https://www.python.org/\n",
    "2. Download the latest version of Python for your operating system (Windows, macOS, Linux).\n",
    "3. Run the installer and follow the installation instructions.\n",
    "4. During installation, make sure to check the option to add Python to your system PATH, which allows you to run Python from the command line.\n",
    "\n",
    "**Running Your First Program:**\n",
    "1. Open a text editor (e.g., Notepad on Windows, TextEdit on macOS) or use an integrated development environment (IDE) like Visual Studio Code, PyCharm, or IDLE.\n",
    "2. Type the following code:\n",
    "\n",
    "```python\n",
    "print(\"Hello, world!\")\n",
    "```\n",
    "\n",
    "3. Save the file with a `.py` extension (e.g., `first_program.py`).\n",
    "4. Open your command prompt (Windows) or terminal (macOS, Linux).\n",
    "5. Navigate to the directory where you saved the `.py` file using the `cd` command.\n",
    "6. Run the program by entering: `python first_program.py`\n",
    "7. You should see the output: `Hello, world!`\n",
    "\n",
    "**Notes:**\n",
    "- Python uses the `print()` function to display output to the console.\n",
    "- The text within double or single quotes is a string literal.\n",
    "- Make sure to save your Python files with the `.py` extension.\n",
    "- Indentation is crucial in Python. Use consistent indentation to define code blocks.\n",
    "- The `python` command followed by the filename runs the Python script.\n",
    "\n",
    "**Tips:**\n",
    "- Experiment with changing the text inside the `print()` function to see different outputs.\n",
    "- Familiarize yourself with the basic syntax and structure of Python code.\n",
    "- Take time to understand the importance of indentation in Python.\n",
    "- In subsequent days, you'll explore more about variables, data types, and basic operations."
   ]
  },
  {
   "cell_type": "markdown",
   "id": "2f81c996",
   "metadata": {},
   "source": [
    " Variables, Data Types (Integers, Floats, Strings), Basic Operations"
   ]
  },
  {
   "cell_type": "markdown",
   "id": "ef2fe89d",
   "metadata": {},
   "source": [
    "Variables:\n",
    "\n",
    "Variables are used to store data values in a program.\n",
    "You can think of them as named containers for holding information.\n",
    "In Python, variable names are case-sensitive and can consist of letters, numbers, and underscores. They cannot start with a number."
   ]
  },
  {
   "cell_type": "code",
   "execution_count": 1,
   "id": "b002152c",
   "metadata": {},
   "outputs": [],
   "source": [
    "name = \"Alice\"\n",
    "age = 25"
   ]
  },
  {
   "cell_type": "markdown",
   "id": "1f0d4241",
   "metadata": {},
   "source": [
    "Data Types:\n",
    "\n",
    "Python has various built-in data types to represent different kinds of values.\n",
    "Common data types include integers, floats, and strings.\n",
    "Integers:\n",
    "\n",
    "Integers are whole numbers without decimal points.\n",
    "Examples: -2, 0, 42\n",
    "Floats:\n",
    "\n",
    "Floats (floating-point numbers) represent numbers with decimal points.\n",
    "Examples: 3.14, -0.5, 2.0\n",
    "Strings:\n",
    "\n",
    "Strings are sequences of characters enclosed in either single or double quotes.\n",
    "Examples: \"Hello, world!\", 'Python'"
   ]
  },
  {
   "cell_type": "markdown",
   "id": "148cc1e9",
   "metadata": {},
   "source": [
    "# Basic Operations:"
   ]
  },
  {
   "cell_type": "markdown",
   "id": "5e492330",
   "metadata": {},
   "source": [
    "Python allows you to perform various operations on variables and data types."
   ]
  },
  {
   "cell_type": "markdown",
   "id": "09405742",
   "metadata": {},
   "source": [
    "Arithmetic Operations:"
   ]
  },
  {
   "cell_type": "markdown",
   "id": "1f2779b8",
   "metadata": {},
   "source": [
    "Addition (+), subtraction (-), multiplication (*), division (/), exponentiation (**), and modulus (%)."
   ]
  },
  {
   "cell_type": "code",
   "execution_count": 2,
   "id": "7f9f487f",
   "metadata": {},
   "outputs": [
    {
     "name": "stdout",
     "output_type": "stream",
     "text": [
      "Sum: 8\n"
     ]
    }
   ],
   "source": [
    "num1 = 5\n",
    "num2 = 3\n",
    "sum_result = num1 + num2\n",
    "print(\"Sum:\", sum_result)"
   ]
  },
  {
   "cell_type": "code",
   "execution_count": 3,
   "id": "b9e0122f",
   "metadata": {},
   "outputs": [
    {
     "name": "stdout",
     "output_type": "stream",
     "text": [
      "Difference: 3\n"
     ]
    }
   ],
   "source": [
    "num1 = 10\n",
    "num2 = 7\n",
    "diff_result = num1 - num2\n",
    "print(\"Difference:\", diff_result)\n"
   ]
  },
  {
   "cell_type": "code",
   "execution_count": 4,
   "id": "652b1240",
   "metadata": {},
   "outputs": [
    {
     "name": "stdout",
     "output_type": "stream",
     "text": [
      "Product: 24\n"
     ]
    }
   ],
   "source": [
    "num1 = 4\n",
    "num2 = 6\n",
    "prod_result = num1 * num2\n",
    "print(\"Product:\", prod_result)\n"
   ]
  },
  {
   "cell_type": "code",
   "execution_count": 5,
   "id": "db098498",
   "metadata": {},
   "outputs": [
    {
     "name": "stdout",
     "output_type": "stream",
     "text": [
      "Quotient: 5.0\n"
     ]
    }
   ],
   "source": [
    "num1 = 20\n",
    "num2 = 4\n",
    "div_result = num1 / num2\n",
    "print(\"Quotient:\", div_result)"
   ]
  },
  {
   "cell_type": "code",
   "execution_count": 6,
   "id": "5d354fa8",
   "metadata": {},
   "outputs": [
    {
     "name": "stdout",
     "output_type": "stream",
     "text": [
      "Modulus: 2\n"
     ]
    }
   ],
   "source": [
    "num1 = 17\n",
    "num2 = 5\n",
    "mod_result = num1 % num2\n",
    "print(\"Modulus:\", mod_result)\n"
   ]
  },
  {
   "cell_type": "code",
   "execution_count": 7,
   "id": "ba33e8f0",
   "metadata": {},
   "outputs": [
    {
     "name": "stdout",
     "output_type": "stream",
     "text": [
      "Exponent: 8\n"
     ]
    }
   ],
   "source": [
    "base = 2\n",
    "exponent = 3\n",
    "exp_result = base ** exponent\n",
    "print(\"Exponent:\", exp_result)"
   ]
  },
  {
   "cell_type": "code",
   "execution_count": 8,
   "id": "ef8375f5",
   "metadata": {},
   "outputs": [
    {
     "name": "stdout",
     "output_type": "stream",
     "text": [
      "Floor Division: 3\n"
     ]
    }
   ],
   "source": [
    "num1 = 15\n",
    "num2 = 4\n",
    "floor_div_result = num1 // num2\n",
    "print(\"Floor Division:\", floor_div_result)\n"
   ]
  },
  {
   "cell_type": "code",
   "execution_count": 9,
   "id": "0750dc04",
   "metadata": {},
   "outputs": [
    {
     "name": "stdout",
     "output_type": "stream",
     "text": [
      "Compound Interest: 157.62500000000023\n"
     ]
    }
   ],
   "source": [
    "principal = 1000\n",
    "rate = 0.05\n",
    "time = 3\n",
    "comp_interest = principal * (1 + rate)**time - principal\n",
    "print(\"Compound Interest:\", comp_interest)\n"
   ]
  },
  {
   "cell_type": "code",
   "execution_count": 10,
   "id": "5092166e",
   "metadata": {},
   "outputs": [
    {
     "name": "stdout",
     "output_type": "stream",
     "text": [
      "Average: 36.0\n"
     ]
    }
   ],
   "source": [
    "nums = [12, 24, 36, 48, 60]\n",
    "avg = sum(nums) / len(nums)\n",
    "print(\"Average:\", avg)"
   ]
  },
  {
   "cell_type": "markdown",
   "id": "d365c697",
   "metadata": {},
   "source": [
    "# Assignment operators"
   ]
  },
  {
   "cell_type": "code",
   "execution_count": 11,
   "id": "9c2ecbf8",
   "metadata": {},
   "outputs": [
    {
     "name": "stdout",
     "output_type": "stream",
     "text": [
      "Incremented: 6\n"
     ]
    }
   ],
   "source": [
    "num = 5\n",
    "num += 1\n",
    "print(\"Incremented:\", num)"
   ]
  },
  {
   "cell_type": "code",
   "execution_count": 12,
   "id": "d0bec420",
   "metadata": {},
   "outputs": [
    {
     "name": "stdout",
     "output_type": "stream",
     "text": [
      "Decremented: 6\n"
     ]
    }
   ],
   "source": [
    "num = 8\n",
    "num -= 2\n",
    "print(\"Decremented:\", num)"
   ]
  },
  {
   "cell_type": "code",
   "execution_count": 13,
   "id": "4bef690f",
   "metadata": {},
   "outputs": [
    {
     "name": "stdout",
     "output_type": "stream",
     "text": [
      "Multiplied: 12\n"
     ]
    }
   ],
   "source": [
    "num = 3\n",
    "num *= 4\n",
    "print(\"Multiplied:\", num)"
   ]
  },
  {
   "cell_type": "code",
   "execution_count": 14,
   "id": "3ee857bc",
   "metadata": {},
   "outputs": [
    {
     "name": "stdout",
     "output_type": "stream",
     "text": [
      "Divided: 4.0\n"
     ]
    }
   ],
   "source": [
    "num = 20\n",
    "num /= 5\n",
    "print(\"Divided:\", num)"
   ]
  },
  {
   "cell_type": "code",
   "execution_count": 15,
   "id": "e393afd3",
   "metadata": {},
   "outputs": [
    {
     "name": "stdout",
     "output_type": "stream",
     "text": [
      "Modulus: 2\n"
     ]
    }
   ],
   "source": [
    "num = 17\n",
    "num %= 5\n",
    "print(\"Modulus:\", num)"
   ]
  },
  {
   "cell_type": "code",
   "execution_count": 16,
   "id": "94622b95",
   "metadata": {},
   "outputs": [
    {
     "name": "stdout",
     "output_type": "stream",
     "text": [
      "Exponentiated: 8\n"
     ]
    }
   ],
   "source": [
    "num = 2\n",
    "num **= 3\n",
    "print(\"Exponentiated:\", num)"
   ]
  },
  {
   "cell_type": "code",
   "execution_count": 17,
   "id": "14d132f2",
   "metadata": {},
   "outputs": [
    {
     "name": "stdout",
     "output_type": "stream",
     "text": [
      "Floor Divided: 3\n"
     ]
    }
   ],
   "source": [
    "num = 15\n",
    "num //= 4\n",
    "print(\"Floor Divided:\", num)"
   ]
  },
  {
   "cell_type": "code",
   "execution_count": 18,
   "id": "1fa61864",
   "metadata": {},
   "outputs": [
    {
     "name": "stdout",
     "output_type": "stream",
     "text": [
      "Bitwise AND: 0b100010\n"
     ]
    }
   ],
   "source": [
    "num = 0b101010\n",
    "num &= 0b110011\n",
    "print(\"Bitwise AND:\", bin(num))"
   ]
  },
  {
   "cell_type": "code",
   "execution_count": 19,
   "id": "af64ee12",
   "metadata": {},
   "outputs": [
    {
     "name": "stdout",
     "output_type": "stream",
     "text": [
      "Bitwise OR: 0b111011\n"
     ]
    }
   ],
   "source": [
    "num = 0b101010\n",
    "num |= 0b110011\n",
    "print(\"Bitwise OR:\", bin(num))"
   ]
  },
  {
   "cell_type": "code",
   "execution_count": 20,
   "id": "68ded805",
   "metadata": {},
   "outputs": [
    {
     "name": "stdout",
     "output_type": "stream",
     "text": [
      "Bitwise XOR: 0b11001\n"
     ]
    }
   ],
   "source": [
    "num = 0b101010\n",
    "num ^= 0b110011\n",
    "print(\"Bitwise XOR:\", bin(num))"
   ]
  },
  {
   "cell_type": "code",
   "execution_count": null,
   "id": "747d81d0",
   "metadata": {},
   "outputs": [],
   "source": []
  }
 ],
 "metadata": {
  "kernelspec": {
   "display_name": "Python 3 (ipykernel)",
   "language": "python",
   "name": "python3"
  },
  "language_info": {
   "codemirror_mode": {
    "name": "ipython",
    "version": 3
   },
   "file_extension": ".py",
   "mimetype": "text/x-python",
   "name": "python",
   "nbconvert_exporter": "python",
   "pygments_lexer": "ipython3",
   "version": "3.10.11"
  }
 },
 "nbformat": 4,
 "nbformat_minor": 5
}
